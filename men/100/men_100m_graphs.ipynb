{
 "cells": [
  {
   "cell_type": "code",
   "execution_count": 10,
   "metadata": {},
   "outputs": [],
   "source": [
    "import pandas as pd\n",
    "import re\n",
    "import plotly.graph_objects as go\n",
    "\n",
    "# Funkcja do usunięcia litery na końcu wartości\n",
    "def remove_last_character(value):\n",
    "    pattern = r'\\D$'  # Wzorzec do dopasowania ostatniego niecyfrowego znaku\n",
    "    return re.sub(pattern, '', value)\n",
    "\n",
    "# Wczytanie danych z pliku CSV\n",
    "data = pd.read_csv('men_100m.csv')\n",
    "\n",
    "# Konwersja kolumny 'Event Date' na typ daty\n",
    "data['Event Date'] = pd.to_datetime(data['Event Date'], format='%d.%m.%Y')\n",
    "\n",
    "# Usunięcie litery na końcu wartości w kolumnie 'Time'\n",
    "data['Time'] = data['Time'].apply(remove_last_character)\n",
    "\n",
    "# Konwersja kolumny 'Time' na liczbę zmiennoprzecinkową\n",
    "data['Time'] = data['Time'].str.replace(',', '.').astype(float)\n",
    "\n",
    "# Dodanie nowej kolumny 'Year' na podstawie kolumny 'Event Date'\n",
    "data['Year'] = data['Event Date'].dt.year\n",
    "\n",
    "# Filtrowanie danych od roku 1975\n",
    "data = data[data['Year'] >= 1975]\n",
    "\n",
    "# Grupowanie danych według roku i wybór najlepszego wyniku dla każdego roku\n",
    "best_results = data.groupby('Year')['Time'].min()\n",
    "\n",
    "# Tworzenie wykresu za pomocą Plotly\n",
    "fig = go.Figure()\n",
    "\n",
    "# Tworzenie słownika przypisującego kolor dla każdego zawodnika\n",
    "colors = {\n",
    "    'Usain Bolt': 'green',\n",
    "    'Carl Lewis': 'red',\n",
    "    'Robert Hayes': 'blue',\n",
    "    'Jim Hines': 'orange',\n",
    "    'Valeriy Borzov': 'purple',\n",
    "    'Steve Riddick': 'cyan',\n",
    "    'Hasely Crawford': 'magenta',\n",
    "    'Silvio Leonard': 'lime',  \n",
    "    'Clancy Edwards': 'yellow',\n",
    "    'Pietro Mennea': 'pink',\n",
    "    'James Sanford': 'brown',\n",
    "    'Calvin Smith': 'gray',  \n",
    "    'Mel Lattany': 'indigo',\n",
    "    'Chidi Imoh': 'teal',\n",
    "    'Leroy Burrell': 'olive',\n",
    "    'Michael Marsh': 'navy',\n",
    "    'Linford Christie': 'maroon',\n",
    "    'Donovan Bailey': 'silver',\n",
    "    'Maurice Greene': 'aqua',\n",
    "    'Ato Boldon': 'fuchsia',\n",
    "    'Justin Gatlin': 'gold',\n",
    "    'Asafa Powell': 'violet',\n",
    "    'Tyson Gay': 'salmon',\n",
    "    'Christian Coleman': 'lightblue',\n",
    "    'Michael Norman': 'black',\n",
    "    'Trayvon Bromell': 'khaki',\n",
    "    'Fred Kerley': 'lightgray',\n",
    "    'Ferdinand Omanyala': 'tomato',\n",
    "    'Patrick Johnson': 'brown',  \n",
    "}\n",
    "\n",
    "\n",
    "# Dodawanie punktów dla najlepszych wyników w każdym roku\n",
    "for year, time in best_results.items():\n",
    "    athlete_data = data.loc[(data['Year'] == year) & (data['Time'] == time)]\n",
    "    athlete = athlete_data['Athlete'].values[0]\n",
    "    country = athlete_data['Country'].values[0]\n",
    "    color = colors.get(athlete, 'gray')\n",
    "    label = f\"Zawodnik: {athlete}<br>Rok: {int(year)}<br>Czas: {time} s<br>Kraj: {country}\"\n",
    "    fig.add_trace(go.Scatter(\n",
    "        x=[year],\n",
    "        y=[time],\n",
    "        mode='markers',\n",
    "        name=athlete,\n",
    "        text=[label],\n",
    "        hovertemplate='%{text}<extra></extra>',\n",
    "        marker=dict(color=color, size=15),  # Zwiększenie rozmiaru kulek\n",
    "    ))\n",
    "\n",
    "# Dodawanie prostokąta 1\n",
    "fig.add_shape(\n",
    "    type=\"rect\",\n",
    "    x0=1981,\n",
    "    y0=9.5,\n",
    "    x1=1991,\n",
    "    y1=10.5,\n",
    "    fillcolor=\"rgba(255, 0, 0, 0.2)\",\n",
    "    line=dict(color='rgba(255, 0, 0, 0.2)'),\n",
    "    opacity=0.5,\n",
    "    layer=\"below\",\n",
    "    xref='x',\n",
    "    yref='y'\n",
    ")\n",
    "\n",
    "# Dodawanie prostokąta 2\n",
    "fig.add_shape(\n",
    "    type=\"rect\",\n",
    "    x0=2008,\n",
    "    y0=9.5,\n",
    "    x1=2013,\n",
    "    y1=10.5,\n",
    "    fillcolor=\"rgba(0, 255, 0, 0.2)\",\n",
    "    line=dict(color='rgba(0, 255, 0, 0.2)'),\n",
    "    opacity=0.5,\n",
    "    layer=\"below\",\n",
    "    xref='x',\n",
    "    yref='y'\n",
    ")\n",
    "\n",
    "# Konfiguracja układu wykresu\n",
    "fig.update_layout(\n",
    "    xaxis=dict(title='Rok'),\n",
    "    yaxis=dict(title='Najlepszy czas (s)'),\n",
    "    title='Najlepszy wynik w biegu na 100 m',\n",
    "    showlegend=True,\n",
    "    height=700\n",
    ")\n",
    "\n",
    "# Ustawienie skalowania osi Y\n",
    "fig.update_yaxes(range=[9.5, 10.2])\n",
    "\n",
    "# Zapisywanie wykresu do pliku HTML\n",
    "fig.write_html('best_of_every_season.html')\n",
    "\n",
    "\n",
    "\n"
   ]
  },
  {
   "cell_type": "code",
   "execution_count": 17,
   "metadata": {},
   "outputs": [],
   "source": [
    "import plotly.graph_objects as go\n",
    "import pandas as pd\n",
    "import networkx as nx\n",
    "import random\n",
    "\n",
    "data = {\n",
    "    'Country': ['USA', 'JAM', 'GBR', 'TTO', 'CAN', 'NGR', 'RSA', 'FRA', 'SKN', 'JPN'],\n",
    "    'Count': [1555, 696, 236, 187, 148, 146, 121, 109, 80, 78],\n",
    "    'Picture': ['US.png', 'JM.png', 'GB.png', 'TT.png', 'CA.png', 'NG.png', 'ZA.png', 'FR.png', 'KN.png', 'JP.png']\n",
    "}\n",
    "\n",
    "# Wczytanie danych do DataFrame\n",
    "df = pd.DataFrame(data)\n",
    "\n",
    "# Tworzenie figury\n",
    "fig = go.Figure()\n",
    "\n",
    "# Tworzenie grafu\n",
    "G = nx.Graph()\n",
    "\n",
    "# Dodawanie wierzchołków do grafu\n",
    "for i, row in df.iterrows():\n",
    "    G.add_node(i)\n",
    "\n",
    "# Generowanie losowego rozkładu kulek\n",
    "pos = nx.spring_layout(G, iterations=2000, scale=0.5, seed=42)\n",
    "\n",
    "# Dodawanie markerów z obrazkami i etykietami\n",
    "for i, row in df.iterrows():\n",
    "    x, y = pos[i]\n",
    "\n",
    "    fig.add_trace(go.Scatter(\n",
    "        x=[x],\n",
    "        y=[y],\n",
    "        mode='markers',\n",
    "        marker=dict(\n",
    "            size=30 * row['Count'] * 0.01,\n",
    "            opacity=0.7,\n",
    "            symbol='circle',\n",
    "            color='rgba(0, 0, 0, 0)',\n",
    "        ),\n",
    "        hovertext=[f'Country: {row[\"Country\"]}, Count: {row[\"Count\"]}'],\n",
    "        hoverinfo='text',\n",
    "    ))\n",
    "    fig.add_layout_image(\n",
    "        dict(\n",
    "            source=f\"https://raw.githubusercontent.com/matahombres/CSS-Country-Flags-Rounded/master/flags/{row['Picture']}\",\n",
    "            xref=\"x\",\n",
    "            yref=\"y\",\n",
    "            x=x,\n",
    "            y=y,\n",
    "            sizex=0.001 * row['Count'],  # Mnożenie wartości Count przez 0.1\n",
    "            sizey=0.001 * row['Count'],  # Mnożenie wartości Count przez 0.1\n",
    "            xanchor=\"center\",\n",
    "            yanchor=\"middle\",\n",
    "            opacity=1,\n",
    "            layer=\"above\"\n",
    "        )\n",
    "    )\n",
    "\n",
    "# Aktualizowanie osi x\n",
    "fig.update_xaxes(showgrid=False, zeroline=False, showticklabels=False)\n",
    "\n",
    "# Aktualizowanie osi y\n",
    "fig.update_yaxes(showgrid=False, zeroline=False, showticklabels=False)\n",
    "\n",
    "# Aktualizowanie układu wykresu\n",
    "fig.update_layout(\n",
    "    width=1300,\n",
    "    height=750,\n",
    "    plot_bgcolor=\"white\",\n",
    "    showlegend=False\n",
    ")\n",
    "\n",
    "# Zapisywanie wykresu do pliku HTML\n",
    "fig.write_html(\"country_bubbles.html\")\n",
    "\n"
   ]
  },
  {
   "cell_type": "code",
   "execution_count": 23,
   "metadata": {},
   "outputs": [],
   "source": [
    "import pandas as pd\n",
    "import plotly.express as px\n",
    "\n",
    "# Funkcja do usunięcia litery na końcu wartości\n",
    "def remove_last_character(value):\n",
    "    pattern = r'\\D$'  # Wzorzec do dopasowania ostatniego niecyfrowego znaku\n",
    "    return re.sub(pattern, '', value)\n",
    "\n",
    "# Wczytanie danych z pliku CSV\n",
    "data = pd.read_csv('men_100m.csv')\n",
    "\n",
    "# Konwersja kolumny 'Event Date' na typ daty\n",
    "data['Event Date'] = pd.to_datetime(data['Event Date'], format='%d.%m.%Y')\n",
    "\n",
    "# Usunięcie litery na końcu wartości w kolumnie 'Time'\n",
    "data['Time'] = data['Time'].apply(remove_last_character)\n",
    "\n",
    "# Konwersja kolumny 'Time' na liczbę zmiennoprzecinkową\n",
    "data['Time'] = data['Time'].str.replace(',', '.').astype(float)\n",
    "\n",
    "# Sortowanie wyników względem daty i czasu\n",
    "data = data.sort_values(by=['Event Date', 'Time'])\n",
    "\n",
    "# Inicjalizacja pustej listy do przechowywania najlepszych wyników\n",
    "best_results = []\n",
    "\n",
    "# Ustalenie daty początkowej\n",
    "start_date = pd.to_datetime('1968-10-14', format='%Y-%m-%d')\n",
    "\n",
    "# Przeszukiwanie posortowanych danych w celu znalezienia progresji rekordu świata\n",
    "current_best_time = float('inf')\n",
    "for _, row in data.iterrows():\n",
    "    if row['Event Date'] >= start_date:\n",
    "        if row['Time'] < current_best_time:\n",
    "            best_results.append(row)\n",
    "            current_best_time = row['Time']\n",
    "\n",
    "# Konwersja listy wyników do DataFrame\n",
    "best_results = pd.DataFrame(best_results)\n",
    "\n",
    "# Tworzenie wykresu punktowego\n",
    "fig = px.scatter(best_results, x='Event Date', y='Time', title='Progresja rekordu świata - 100m mężczyzn')\n",
    "fig.update_traces(mode='markers+lines')  # Dodanie linii łączących punkty\n",
    "#   height=700\n",
    "fig.update_layout(\n",
    "    xaxis=dict(title='Data biegu'),  # Zmiana etykiety osi x na \"Czas\"\n",
    "    yaxis=dict(title='Czas'),  #\n",
    "    height=600 )\n",
    "# Zapisywanie wykresu do pliku HTML\n",
    "fig.write_html(\"WR_progression.html\")\n",
    "\n"
   ]
  },
  {
   "cell_type": "code",
   "execution_count": 13,
   "metadata": {},
   "outputs": [
    {
     "data": {
      "application/javascript": "/* Put everything inside the global mpl namespace */\n/* global mpl */\nwindow.mpl = {};\n\nmpl.get_websocket_type = function () {\n    if (typeof WebSocket !== 'undefined') {\n        return WebSocket;\n    } else if (typeof MozWebSocket !== 'undefined') {\n        return MozWebSocket;\n    } else {\n        alert(\n            'Your browser does not have WebSocket support. ' +\n                'Please try Chrome, Safari or Firefox ≥ 6. ' +\n                'Firefox 4 and 5 are also supported but you ' +\n                'have to enable WebSockets in about:config.'\n        );\n    }\n};\n\nmpl.figure = function (figure_id, websocket, ondownload, parent_element) {\n    this.id = figure_id;\n\n    this.ws = websocket;\n\n    this.supports_binary = this.ws.binaryType !== undefined;\n\n    if (!this.supports_binary) {\n        var warnings = document.getElementById('mpl-warnings');\n        if (warnings) {\n            warnings.style.display = 'block';\n            warnings.textContent =\n                'This browser does not support binary websocket messages. ' +\n                'Performance may be slow.';\n        }\n    }\n\n    this.imageObj = new Image();\n\n    this.context = undefined;\n    this.message = undefined;\n    this.canvas = undefined;\n    this.rubberband_canvas = undefined;\n    this.rubberband_context = undefined;\n    this.format_dropdown = undefined;\n\n    this.image_mode = 'full';\n\n    this.root = document.createElement('div');\n    this.root.setAttribute('style', 'display: inline-block');\n    this._root_extra_style(this.root);\n\n    parent_element.appendChild(this.root);\n\n    this._init_header(this);\n    this._init_canvas(this);\n    this._init_toolbar(this);\n\n    var fig = this;\n\n    this.waiting = false;\n\n    this.ws.onopen = function () {\n        fig.send_message('supports_binary', { value: fig.supports_binary });\n        fig.send_message('send_image_mode', {});\n        if (fig.ratio !== 1) {\n            fig.send_message('set_device_pixel_ratio', {\n                device_pixel_ratio: fig.ratio,\n            });\n        }\n        fig.send_message('refresh', {});\n    };\n\n    this.imageObj.onload = function () {\n        if (fig.image_mode === 'full') {\n            // Full images could contain transparency (where diff images\n            // almost always do), so we need to clear the canvas so that\n            // there is no ghosting.\n            fig.context.clearRect(0, 0, fig.canvas.width, fig.canvas.height);\n        }\n        fig.context.drawImage(fig.imageObj, 0, 0);\n    };\n\n    this.imageObj.onunload = function () {\n        fig.ws.close();\n    };\n\n    this.ws.onmessage = this._make_on_message_function(this);\n\n    this.ondownload = ondownload;\n};\n\nmpl.figure.prototype._init_header = function () {\n    var titlebar = document.createElement('div');\n    titlebar.classList =\n        'ui-dialog-titlebar ui-widget-header ui-corner-all ui-helper-clearfix';\n    var titletext = document.createElement('div');\n    titletext.classList = 'ui-dialog-title';\n    titletext.setAttribute(\n        'style',\n        'width: 100%; text-align: center; padding: 3px;'\n    );\n    titlebar.appendChild(titletext);\n    this.root.appendChild(titlebar);\n    this.header = titletext;\n};\n\nmpl.figure.prototype._canvas_extra_style = function (_canvas_div) {};\n\nmpl.figure.prototype._root_extra_style = function (_canvas_div) {};\n\nmpl.figure.prototype._init_canvas = function () {\n    var fig = this;\n\n    var canvas_div = (this.canvas_div = document.createElement('div'));\n    canvas_div.setAttribute('tabindex', '0');\n    canvas_div.setAttribute(\n        'style',\n        'border: 1px solid #ddd;' +\n            'box-sizing: content-box;' +\n            'clear: both;' +\n            'min-height: 1px;' +\n            'min-width: 1px;' +\n            'outline: 0;' +\n            'overflow: hidden;' +\n            'position: relative;' +\n            'resize: both;' +\n            'z-index: 2;'\n    );\n\n    function on_keyboard_event_closure(name) {\n        return function (event) {\n            return fig.key_event(event, name);\n        };\n    }\n\n    canvas_div.addEventListener(\n        'keydown',\n        on_keyboard_event_closure('key_press')\n    );\n    canvas_div.addEventListener(\n        'keyup',\n        on_keyboard_event_closure('key_release')\n    );\n\n    this._canvas_extra_style(canvas_div);\n    this.root.appendChild(canvas_div);\n\n    var canvas = (this.canvas = document.createElement('canvas'));\n    canvas.classList.add('mpl-canvas');\n    canvas.setAttribute(\n        'style',\n        'box-sizing: content-box;' +\n            'pointer-events: none;' +\n            'position: relative;' +\n            'z-index: 0;'\n    );\n\n    this.context = canvas.getContext('2d');\n\n    var backingStore =\n        this.context.backingStorePixelRatio ||\n        this.context.webkitBackingStorePixelRatio ||\n        this.context.mozBackingStorePixelRatio ||\n        this.context.msBackingStorePixelRatio ||\n        this.context.oBackingStorePixelRatio ||\n        this.context.backingStorePixelRatio ||\n        1;\n\n    this.ratio = (window.devicePixelRatio || 1) / backingStore;\n\n    var rubberband_canvas = (this.rubberband_canvas = document.createElement(\n        'canvas'\n    ));\n    rubberband_canvas.setAttribute(\n        'style',\n        'box-sizing: content-box;' +\n            'left: 0;' +\n            'pointer-events: none;' +\n            'position: absolute;' +\n            'top: 0;' +\n            'z-index: 1;'\n    );\n\n    // Apply a ponyfill if ResizeObserver is not implemented by browser.\n    if (this.ResizeObserver === undefined) {\n        if (window.ResizeObserver !== undefined) {\n            this.ResizeObserver = window.ResizeObserver;\n        } else {\n            var obs = _JSXTOOLS_RESIZE_OBSERVER({});\n            this.ResizeObserver = obs.ResizeObserver;\n        }\n    }\n\n    this.resizeObserverInstance = new this.ResizeObserver(function (entries) {\n        var nentries = entries.length;\n        for (var i = 0; i < nentries; i++) {\n            var entry = entries[i];\n            var width, height;\n            if (entry.contentBoxSize) {\n                if (entry.contentBoxSize instanceof Array) {\n                    // Chrome 84 implements new version of spec.\n                    width = entry.contentBoxSize[0].inlineSize;\n                    height = entry.contentBoxSize[0].blockSize;\n                } else {\n                    // Firefox implements old version of spec.\n                    width = entry.contentBoxSize.inlineSize;\n                    height = entry.contentBoxSize.blockSize;\n                }\n            } else {\n                // Chrome <84 implements even older version of spec.\n                width = entry.contentRect.width;\n                height = entry.contentRect.height;\n            }\n\n            // Keep the size of the canvas and rubber band canvas in sync with\n            // the canvas container.\n            if (entry.devicePixelContentBoxSize) {\n                // Chrome 84 implements new version of spec.\n                canvas.setAttribute(\n                    'width',\n                    entry.devicePixelContentBoxSize[0].inlineSize\n                );\n                canvas.setAttribute(\n                    'height',\n                    entry.devicePixelContentBoxSize[0].blockSize\n                );\n            } else {\n                canvas.setAttribute('width', width * fig.ratio);\n                canvas.setAttribute('height', height * fig.ratio);\n            }\n            /* This rescales the canvas back to display pixels, so that it\n             * appears correct on HiDPI screens. */\n            canvas.style.width = width + 'px';\n            canvas.style.height = height + 'px';\n\n            rubberband_canvas.setAttribute('width', width);\n            rubberband_canvas.setAttribute('height', height);\n\n            // And update the size in Python. We ignore the initial 0/0 size\n            // that occurs as the element is placed into the DOM, which should\n            // otherwise not happen due to the minimum size styling.\n            if (fig.ws.readyState == 1 && width != 0 && height != 0) {\n                fig.request_resize(width, height);\n            }\n        }\n    });\n    this.resizeObserverInstance.observe(canvas_div);\n\n    function on_mouse_event_closure(name) {\n        /* User Agent sniffing is bad, but WebKit is busted:\n         * https://bugs.webkit.org/show_bug.cgi?id=144526\n         * https://bugs.webkit.org/show_bug.cgi?id=181818\n         * The worst that happens here is that they get an extra browser\n         * selection when dragging, if this check fails to catch them.\n         */\n        var UA = navigator.userAgent;\n        var isWebKit = /AppleWebKit/.test(UA) && !/Chrome/.test(UA);\n        if(isWebKit) {\n            return function (event) {\n                /* This prevents the web browser from automatically changing to\n                 * the text insertion cursor when the button is pressed. We\n                 * want to control all of the cursor setting manually through\n                 * the 'cursor' event from matplotlib */\n                event.preventDefault()\n                return fig.mouse_event(event, name);\n            };\n        } else {\n            return function (event) {\n                return fig.mouse_event(event, name);\n            };\n        }\n    }\n\n    canvas_div.addEventListener(\n        'mousedown',\n        on_mouse_event_closure('button_press')\n    );\n    canvas_div.addEventListener(\n        'mouseup',\n        on_mouse_event_closure('button_release')\n    );\n    canvas_div.addEventListener(\n        'dblclick',\n        on_mouse_event_closure('dblclick')\n    );\n    // Throttle sequential mouse events to 1 every 20ms.\n    canvas_div.addEventListener(\n        'mousemove',\n        on_mouse_event_closure('motion_notify')\n    );\n\n    canvas_div.addEventListener(\n        'mouseenter',\n        on_mouse_event_closure('figure_enter')\n    );\n    canvas_div.addEventListener(\n        'mouseleave',\n        on_mouse_event_closure('figure_leave')\n    );\n\n    canvas_div.addEventListener('wheel', function (event) {\n        if (event.deltaY < 0) {\n            event.step = 1;\n        } else {\n            event.step = -1;\n        }\n        on_mouse_event_closure('scroll')(event);\n    });\n\n    canvas_div.appendChild(canvas);\n    canvas_div.appendChild(rubberband_canvas);\n\n    this.rubberband_context = rubberband_canvas.getContext('2d');\n    this.rubberband_context.strokeStyle = '#000000';\n\n    this._resize_canvas = function (width, height, forward) {\n        if (forward) {\n            canvas_div.style.width = width + 'px';\n            canvas_div.style.height = height + 'px';\n        }\n    };\n\n    // Disable right mouse context menu.\n    canvas_div.addEventListener('contextmenu', function (_e) {\n        event.preventDefault();\n        return false;\n    });\n\n    function set_focus() {\n        canvas.focus();\n        canvas_div.focus();\n    }\n\n    window.setTimeout(set_focus, 100);\n};\n\nmpl.figure.prototype._init_toolbar = function () {\n    var fig = this;\n\n    var toolbar = document.createElement('div');\n    toolbar.classList = 'mpl-toolbar';\n    this.root.appendChild(toolbar);\n\n    function on_click_closure(name) {\n        return function (_event) {\n            return fig.toolbar_button_onclick(name);\n        };\n    }\n\n    function on_mouseover_closure(tooltip) {\n        return function (event) {\n            if (!event.currentTarget.disabled) {\n                return fig.toolbar_button_onmouseover(tooltip);\n            }\n        };\n    }\n\n    fig.buttons = {};\n    var buttonGroup = document.createElement('div');\n    buttonGroup.classList = 'mpl-button-group';\n    for (var toolbar_ind in mpl.toolbar_items) {\n        var name = mpl.toolbar_items[toolbar_ind][0];\n        var tooltip = mpl.toolbar_items[toolbar_ind][1];\n        var image = mpl.toolbar_items[toolbar_ind][2];\n        var method_name = mpl.toolbar_items[toolbar_ind][3];\n\n        if (!name) {\n            /* Instead of a spacer, we start a new button group. */\n            if (buttonGroup.hasChildNodes()) {\n                toolbar.appendChild(buttonGroup);\n            }\n            buttonGroup = document.createElement('div');\n            buttonGroup.classList = 'mpl-button-group';\n            continue;\n        }\n\n        var button = (fig.buttons[name] = document.createElement('button'));\n        button.classList = 'mpl-widget';\n        button.setAttribute('role', 'button');\n        button.setAttribute('aria-disabled', 'false');\n        button.addEventListener('click', on_click_closure(method_name));\n        button.addEventListener('mouseover', on_mouseover_closure(tooltip));\n\n        var icon_img = document.createElement('img');\n        icon_img.src = '_images/' + image + '.png';\n        icon_img.srcset = '_images/' + image + '_large.png 2x';\n        icon_img.alt = tooltip;\n        button.appendChild(icon_img);\n\n        buttonGroup.appendChild(button);\n    }\n\n    if (buttonGroup.hasChildNodes()) {\n        toolbar.appendChild(buttonGroup);\n    }\n\n    var fmt_picker = document.createElement('select');\n    fmt_picker.classList = 'mpl-widget';\n    toolbar.appendChild(fmt_picker);\n    this.format_dropdown = fmt_picker;\n\n    for (var ind in mpl.extensions) {\n        var fmt = mpl.extensions[ind];\n        var option = document.createElement('option');\n        option.selected = fmt === mpl.default_extension;\n        option.innerHTML = fmt;\n        fmt_picker.appendChild(option);\n    }\n\n    var status_bar = document.createElement('span');\n    status_bar.classList = 'mpl-message';\n    toolbar.appendChild(status_bar);\n    this.message = status_bar;\n};\n\nmpl.figure.prototype.request_resize = function (x_pixels, y_pixels) {\n    // Request matplotlib to resize the figure. Matplotlib will then trigger a resize in the client,\n    // which will in turn request a refresh of the image.\n    this.send_message('resize', { width: x_pixels, height: y_pixels });\n};\n\nmpl.figure.prototype.send_message = function (type, properties) {\n    properties['type'] = type;\n    properties['figure_id'] = this.id;\n    this.ws.send(JSON.stringify(properties));\n};\n\nmpl.figure.prototype.send_draw_message = function () {\n    if (!this.waiting) {\n        this.waiting = true;\n        this.ws.send(JSON.stringify({ type: 'draw', figure_id: this.id }));\n    }\n};\n\nmpl.figure.prototype.handle_save = function (fig, _msg) {\n    var format_dropdown = fig.format_dropdown;\n    var format = format_dropdown.options[format_dropdown.selectedIndex].value;\n    fig.ondownload(fig, format);\n};\n\nmpl.figure.prototype.handle_resize = function (fig, msg) {\n    var size = msg['size'];\n    if (size[0] !== fig.canvas.width || size[1] !== fig.canvas.height) {\n        fig._resize_canvas(size[0], size[1], msg['forward']);\n        fig.send_message('refresh', {});\n    }\n};\n\nmpl.figure.prototype.handle_rubberband = function (fig, msg) {\n    var x0 = msg['x0'] / fig.ratio;\n    var y0 = (fig.canvas.height - msg['y0']) / fig.ratio;\n    var x1 = msg['x1'] / fig.ratio;\n    var y1 = (fig.canvas.height - msg['y1']) / fig.ratio;\n    x0 = Math.floor(x0) + 0.5;\n    y0 = Math.floor(y0) + 0.5;\n    x1 = Math.floor(x1) + 0.5;\n    y1 = Math.floor(y1) + 0.5;\n    var min_x = Math.min(x0, x1);\n    var min_y = Math.min(y0, y1);\n    var width = Math.abs(x1 - x0);\n    var height = Math.abs(y1 - y0);\n\n    fig.rubberband_context.clearRect(\n        0,\n        0,\n        fig.canvas.width / fig.ratio,\n        fig.canvas.height / fig.ratio\n    );\n\n    fig.rubberband_context.strokeRect(min_x, min_y, width, height);\n};\n\nmpl.figure.prototype.handle_figure_label = function (fig, msg) {\n    // Updates the figure title.\n    fig.header.textContent = msg['label'];\n};\n\nmpl.figure.prototype.handle_cursor = function (fig, msg) {\n    fig.canvas_div.style.cursor = msg['cursor'];\n};\n\nmpl.figure.prototype.handle_message = function (fig, msg) {\n    fig.message.textContent = msg['message'];\n};\n\nmpl.figure.prototype.handle_draw = function (fig, _msg) {\n    // Request the server to send over a new figure.\n    fig.send_draw_message();\n};\n\nmpl.figure.prototype.handle_image_mode = function (fig, msg) {\n    fig.image_mode = msg['mode'];\n};\n\nmpl.figure.prototype.handle_history_buttons = function (fig, msg) {\n    for (var key in msg) {\n        if (!(key in fig.buttons)) {\n            continue;\n        }\n        fig.buttons[key].disabled = !msg[key];\n        fig.buttons[key].setAttribute('aria-disabled', !msg[key]);\n    }\n};\n\nmpl.figure.prototype.handle_navigate_mode = function (fig, msg) {\n    if (msg['mode'] === 'PAN') {\n        fig.buttons['Pan'].classList.add('active');\n        fig.buttons['Zoom'].classList.remove('active');\n    } else if (msg['mode'] === 'ZOOM') {\n        fig.buttons['Pan'].classList.remove('active');\n        fig.buttons['Zoom'].classList.add('active');\n    } else {\n        fig.buttons['Pan'].classList.remove('active');\n        fig.buttons['Zoom'].classList.remove('active');\n    }\n};\n\nmpl.figure.prototype.updated_canvas_event = function () {\n    // Called whenever the canvas gets updated.\n    this.send_message('ack', {});\n};\n\n// A function to construct a web socket function for onmessage handling.\n// Called in the figure constructor.\nmpl.figure.prototype._make_on_message_function = function (fig) {\n    return function socket_on_message(evt) {\n        if (evt.data instanceof Blob) {\n            var img = evt.data;\n            if (img.type !== 'image/png') {\n                /* FIXME: We get \"Resource interpreted as Image but\n                 * transferred with MIME type text/plain:\" errors on\n                 * Chrome.  But how to set the MIME type?  It doesn't seem\n                 * to be part of the websocket stream */\n                img.type = 'image/png';\n            }\n\n            /* Free the memory for the previous frames */\n            if (fig.imageObj.src) {\n                (window.URL || window.webkitURL).revokeObjectURL(\n                    fig.imageObj.src\n                );\n            }\n\n            fig.imageObj.src = (window.URL || window.webkitURL).createObjectURL(\n                img\n            );\n            fig.updated_canvas_event();\n            fig.waiting = false;\n            return;\n        } else if (\n            typeof evt.data === 'string' &&\n            evt.data.slice(0, 21) === 'data:image/png;base64'\n        ) {\n            fig.imageObj.src = evt.data;\n            fig.updated_canvas_event();\n            fig.waiting = false;\n            return;\n        }\n\n        var msg = JSON.parse(evt.data);\n        var msg_type = msg['type'];\n\n        // Call the  \"handle_{type}\" callback, which takes\n        // the figure and JSON message as its only arguments.\n        try {\n            var callback = fig['handle_' + msg_type];\n        } catch (e) {\n            console.log(\n                \"No handler for the '\" + msg_type + \"' message type: \",\n                msg\n            );\n            return;\n        }\n\n        if (callback) {\n            try {\n                // console.log(\"Handling '\" + msg_type + \"' message: \", msg);\n                callback(fig, msg);\n            } catch (e) {\n                console.log(\n                    \"Exception inside the 'handler_\" + msg_type + \"' callback:\",\n                    e,\n                    e.stack,\n                    msg\n                );\n            }\n        }\n    };\n};\n\nfunction getModifiers(event) {\n    var mods = [];\n    if (event.ctrlKey) {\n        mods.push('ctrl');\n    }\n    if (event.altKey) {\n        mods.push('alt');\n    }\n    if (event.shiftKey) {\n        mods.push('shift');\n    }\n    if (event.metaKey) {\n        mods.push('meta');\n    }\n    return mods;\n}\n\n/*\n * return a copy of an object with only non-object keys\n * we need this to avoid circular references\n * https://stackoverflow.com/a/24161582/3208463\n */\nfunction simpleKeys(original) {\n    return Object.keys(original).reduce(function (obj, key) {\n        if (typeof original[key] !== 'object') {\n            obj[key] = original[key];\n        }\n        return obj;\n    }, {});\n}\n\nmpl.figure.prototype.mouse_event = function (event, name) {\n    if (name === 'button_press') {\n        this.canvas.focus();\n        this.canvas_div.focus();\n    }\n\n    // from https://stackoverflow.com/q/1114465\n    var boundingRect = this.canvas.getBoundingClientRect();\n    var x = (event.clientX - boundingRect.left) * this.ratio;\n    var y = (event.clientY - boundingRect.top) * this.ratio;\n\n    this.send_message(name, {\n        x: x,\n        y: y,\n        button: event.button,\n        step: event.step,\n        modifiers: getModifiers(event),\n        guiEvent: simpleKeys(event),\n    });\n\n    return false;\n};\n\nmpl.figure.prototype._key_event_extra = function (_event, _name) {\n    // Handle any extra behaviour associated with a key event\n};\n\nmpl.figure.prototype.key_event = function (event, name) {\n    // Prevent repeat events\n    if (name === 'key_press') {\n        if (event.key === this._key) {\n            return;\n        } else {\n            this._key = event.key;\n        }\n    }\n    if (name === 'key_release') {\n        this._key = null;\n    }\n\n    var value = '';\n    if (event.ctrlKey && event.key !== 'Control') {\n        value += 'ctrl+';\n    }\n    else if (event.altKey && event.key !== 'Alt') {\n        value += 'alt+';\n    }\n    else if (event.shiftKey && event.key !== 'Shift') {\n        value += 'shift+';\n    }\n\n    value += 'k' + event.key;\n\n    this._key_event_extra(event, name);\n\n    this.send_message(name, { key: value, guiEvent: simpleKeys(event) });\n    return false;\n};\n\nmpl.figure.prototype.toolbar_button_onclick = function (name) {\n    if (name === 'download') {\n        this.handle_save(this, null);\n    } else {\n        this.send_message('toolbar_button', { name: name });\n    }\n};\n\nmpl.figure.prototype.toolbar_button_onmouseover = function (tooltip) {\n    this.message.textContent = tooltip;\n};\n\n///////////////// REMAINING CONTENT GENERATED BY embed_js.py /////////////////\n// prettier-ignore\nvar _JSXTOOLS_RESIZE_OBSERVER=function(A){var t,i=new WeakMap,n=new WeakMap,a=new WeakMap,r=new WeakMap,o=new Set;function s(e){if(!(this instanceof s))throw new TypeError(\"Constructor requires 'new' operator\");i.set(this,e)}function h(){throw new TypeError(\"Function is not a constructor\")}function c(e,t,i,n){e=0 in arguments?Number(arguments[0]):0,t=1 in arguments?Number(arguments[1]):0,i=2 in arguments?Number(arguments[2]):0,n=3 in arguments?Number(arguments[3]):0,this.right=(this.x=this.left=e)+(this.width=i),this.bottom=(this.y=this.top=t)+(this.height=n),Object.freeze(this)}function d(){t=requestAnimationFrame(d);var s=new WeakMap,p=new Set;o.forEach((function(t){r.get(t).forEach((function(i){var r=t instanceof window.SVGElement,o=a.get(t),d=r?0:parseFloat(o.paddingTop),f=r?0:parseFloat(o.paddingRight),l=r?0:parseFloat(o.paddingBottom),u=r?0:parseFloat(o.paddingLeft),g=r?0:parseFloat(o.borderTopWidth),m=r?0:parseFloat(o.borderRightWidth),w=r?0:parseFloat(o.borderBottomWidth),b=u+f,F=d+l,v=(r?0:parseFloat(o.borderLeftWidth))+m,W=g+w,y=r?0:t.offsetHeight-W-t.clientHeight,E=r?0:t.offsetWidth-v-t.clientWidth,R=b+v,z=F+W,M=r?t.width:parseFloat(o.width)-R-E,O=r?t.height:parseFloat(o.height)-z-y;if(n.has(t)){var k=n.get(t);if(k[0]===M&&k[1]===O)return}n.set(t,[M,O]);var S=Object.create(h.prototype);S.target=t,S.contentRect=new c(u,d,M,O),s.has(i)||(s.set(i,[]),p.add(i)),s.get(i).push(S)}))})),p.forEach((function(e){i.get(e).call(e,s.get(e),e)}))}return s.prototype.observe=function(i){if(i instanceof window.Element){r.has(i)||(r.set(i,new Set),o.add(i),a.set(i,window.getComputedStyle(i)));var n=r.get(i);n.has(this)||n.add(this),cancelAnimationFrame(t),t=requestAnimationFrame(d)}},s.prototype.unobserve=function(i){if(i instanceof window.Element&&r.has(i)){var n=r.get(i);n.has(this)&&(n.delete(this),n.size||(r.delete(i),o.delete(i))),n.size||r.delete(i),o.size||cancelAnimationFrame(t)}},A.DOMRectReadOnly=c,A.ResizeObserver=s,A.ResizeObserverEntry=h,A}; // eslint-disable-line\nmpl.toolbar_items = [[\"Home\", \"Reset original view\", \"fa fa-home\", \"home\"], [\"Back\", \"Back to previous view\", \"fa fa-arrow-left\", \"back\"], [\"Forward\", \"Forward to next view\", \"fa fa-arrow-right\", \"forward\"], [\"\", \"\", \"\", \"\"], [\"Pan\", \"Left button pans, Right button zooms\\nx/y fixes axis, CTRL fixes aspect\", \"fa fa-arrows\", \"pan\"], [\"Zoom\", \"Zoom to rectangle\\nx/y fixes axis\", \"fa fa-square-o\", \"zoom\"], [\"\", \"\", \"\", \"\"], [\"Download\", \"Download plot\", \"fa fa-floppy-o\", \"download\"]];\n\nmpl.extensions = [\"eps\", \"jpeg\", \"pgf\", \"pdf\", \"png\", \"ps\", \"raw\", \"svg\", \"tif\", \"webp\"];\n\nmpl.default_extension = \"png\";/* global mpl */\n\nvar comm_websocket_adapter = function (comm) {\n    // Create a \"websocket\"-like object which calls the given IPython comm\n    // object with the appropriate methods. Currently this is a non binary\n    // socket, so there is still some room for performance tuning.\n    var ws = {};\n\n    ws.binaryType = comm.kernel.ws.binaryType;\n    ws.readyState = comm.kernel.ws.readyState;\n    function updateReadyState(_event) {\n        if (comm.kernel.ws) {\n            ws.readyState = comm.kernel.ws.readyState;\n        } else {\n            ws.readyState = 3; // Closed state.\n        }\n    }\n    comm.kernel.ws.addEventListener('open', updateReadyState);\n    comm.kernel.ws.addEventListener('close', updateReadyState);\n    comm.kernel.ws.addEventListener('error', updateReadyState);\n\n    ws.close = function () {\n        comm.close();\n    };\n    ws.send = function (m) {\n        //console.log('sending', m);\n        comm.send(m);\n    };\n    // Register the callback with on_msg.\n    comm.on_msg(function (msg) {\n        //console.log('receiving', msg['content']['data'], msg);\n        var data = msg['content']['data'];\n        if (data['blob'] !== undefined) {\n            data = {\n                data: new Blob(msg['buffers'], { type: data['blob'] }),\n            };\n        }\n        // Pass the mpl event to the overridden (by mpl) onmessage function.\n        ws.onmessage(data);\n    });\n    return ws;\n};\n\nmpl.mpl_figure_comm = function (comm, msg) {\n    // This is the function which gets called when the mpl process\n    // starts-up an IPython Comm through the \"matplotlib\" channel.\n\n    var id = msg.content.data.id;\n    // Get hold of the div created by the display call when the Comm\n    // socket was opened in Python.\n    var element = document.getElementById(id);\n    var ws_proxy = comm_websocket_adapter(comm);\n\n    function ondownload(figure, _format) {\n        window.open(figure.canvas.toDataURL());\n    }\n\n    var fig = new mpl.figure(id, ws_proxy, ondownload, element);\n\n    // Call onopen now - mpl needs it, as it is assuming we've passed it a real\n    // web socket which is closed, not our websocket->open comm proxy.\n    ws_proxy.onopen();\n\n    fig.parent_element = element;\n    fig.cell_info = mpl.find_output_cell(\"<div id='\" + id + \"'></div>\");\n    if (!fig.cell_info) {\n        console.error('Failed to find cell for figure', id, fig);\n        return;\n    }\n    fig.cell_info[0].output_area.element.on(\n        'cleared',\n        { fig: fig },\n        fig._remove_fig_handler\n    );\n};\n\nmpl.figure.prototype.handle_close = function (fig, msg) {\n    var width = fig.canvas.width / fig.ratio;\n    fig.cell_info[0].output_area.element.off(\n        'cleared',\n        fig._remove_fig_handler\n    );\n    fig.resizeObserverInstance.unobserve(fig.canvas_div);\n\n    // Update the output cell to use the data from the current canvas.\n    fig.push_to_output();\n    var dataURL = fig.canvas.toDataURL();\n    // Re-enable the keyboard manager in IPython - without this line, in FF,\n    // the notebook keyboard shortcuts fail.\n    IPython.keyboard_manager.enable();\n    fig.parent_element.innerHTML =\n        '<img src=\"' + dataURL + '\" width=\"' + width + '\">';\n    fig.close_ws(fig, msg);\n};\n\nmpl.figure.prototype.close_ws = function (fig, msg) {\n    fig.send_message('closing', msg);\n    // fig.ws.close()\n};\n\nmpl.figure.prototype.push_to_output = function (_remove_interactive) {\n    // Turn the data on the canvas into data in the output cell.\n    var width = this.canvas.width / this.ratio;\n    var dataURL = this.canvas.toDataURL();\n    this.cell_info[1]['text/html'] =\n        '<img src=\"' + dataURL + '\" width=\"' + width + '\">';\n};\n\nmpl.figure.prototype.updated_canvas_event = function () {\n    // Tell IPython that the notebook contents must change.\n    IPython.notebook.set_dirty(true);\n    this.send_message('ack', {});\n    var fig = this;\n    // Wait a second, then push the new image to the DOM so\n    // that it is saved nicely (might be nice to debounce this).\n    setTimeout(function () {\n        fig.push_to_output();\n    }, 1000);\n};\n\nmpl.figure.prototype._init_toolbar = function () {\n    var fig = this;\n\n    var toolbar = document.createElement('div');\n    toolbar.classList = 'btn-toolbar';\n    this.root.appendChild(toolbar);\n\n    function on_click_closure(name) {\n        return function (_event) {\n            return fig.toolbar_button_onclick(name);\n        };\n    }\n\n    function on_mouseover_closure(tooltip) {\n        return function (event) {\n            if (!event.currentTarget.disabled) {\n                return fig.toolbar_button_onmouseover(tooltip);\n            }\n        };\n    }\n\n    fig.buttons = {};\n    var buttonGroup = document.createElement('div');\n    buttonGroup.classList = 'btn-group';\n    var button;\n    for (var toolbar_ind in mpl.toolbar_items) {\n        var name = mpl.toolbar_items[toolbar_ind][0];\n        var tooltip = mpl.toolbar_items[toolbar_ind][1];\n        var image = mpl.toolbar_items[toolbar_ind][2];\n        var method_name = mpl.toolbar_items[toolbar_ind][3];\n\n        if (!name) {\n            /* Instead of a spacer, we start a new button group. */\n            if (buttonGroup.hasChildNodes()) {\n                toolbar.appendChild(buttonGroup);\n            }\n            buttonGroup = document.createElement('div');\n            buttonGroup.classList = 'btn-group';\n            continue;\n        }\n\n        button = fig.buttons[name] = document.createElement('button');\n        button.classList = 'btn btn-default';\n        button.href = '#';\n        button.title = name;\n        button.innerHTML = '<i class=\"fa ' + image + ' fa-lg\"></i>';\n        button.addEventListener('click', on_click_closure(method_name));\n        button.addEventListener('mouseover', on_mouseover_closure(tooltip));\n        buttonGroup.appendChild(button);\n    }\n\n    if (buttonGroup.hasChildNodes()) {\n        toolbar.appendChild(buttonGroup);\n    }\n\n    // Add the status bar.\n    var status_bar = document.createElement('span');\n    status_bar.classList = 'mpl-message pull-right';\n    toolbar.appendChild(status_bar);\n    this.message = status_bar;\n\n    // Add the close button to the window.\n    var buttongrp = document.createElement('div');\n    buttongrp.classList = 'btn-group inline pull-right';\n    button = document.createElement('button');\n    button.classList = 'btn btn-mini btn-primary';\n    button.href = '#';\n    button.title = 'Stop Interaction';\n    button.innerHTML = '<i class=\"fa fa-power-off icon-remove icon-large\"></i>';\n    button.addEventListener('click', function (_evt) {\n        fig.handle_close(fig, {});\n    });\n    button.addEventListener(\n        'mouseover',\n        on_mouseover_closure('Stop Interaction')\n    );\n    buttongrp.appendChild(button);\n    var titlebar = this.root.querySelector('.ui-dialog-titlebar');\n    titlebar.insertBefore(buttongrp, titlebar.firstChild);\n};\n\nmpl.figure.prototype._remove_fig_handler = function (event) {\n    var fig = event.data.fig;\n    if (event.target !== this) {\n        // Ignore bubbled events from children.\n        return;\n    }\n    fig.close_ws(fig, {});\n};\n\nmpl.figure.prototype._root_extra_style = function (el) {\n    el.style.boxSizing = 'content-box'; // override notebook setting of border-box.\n};\n\nmpl.figure.prototype._canvas_extra_style = function (el) {\n    // this is important to make the div 'focusable\n    el.setAttribute('tabindex', 0);\n    // reach out to IPython and tell the keyboard manager to turn it's self\n    // off when our div gets focus\n\n    // location in version 3\n    if (IPython.notebook.keyboard_manager) {\n        IPython.notebook.keyboard_manager.register_events(el);\n    } else {\n        // location in version 2\n        IPython.keyboard_manager.register_events(el);\n    }\n};\n\nmpl.figure.prototype._key_event_extra = function (event, _name) {\n    // Check for shift+enter\n    if (event.shiftKey && event.which === 13) {\n        this.canvas_div.blur();\n        // select the cell after this one\n        var index = IPython.notebook.find_cell_index(this.cell_info[0]);\n        IPython.notebook.select(index + 1);\n    }\n};\n\nmpl.figure.prototype.handle_save = function (fig, _msg) {\n    fig.ondownload(fig, null);\n};\n\nmpl.find_output_cell = function (html_output) {\n    // Return the cell and output element which can be found *uniquely* in the notebook.\n    // Note - this is a bit hacky, but it is done because the \"notebook_saving.Notebook\"\n    // IPython event is triggered only after the cells have been serialised, which for\n    // our purposes (turning an active figure into a static one), is too late.\n    var cells = IPython.notebook.get_cells();\n    var ncells = cells.length;\n    for (var i = 0; i < ncells; i++) {\n        var cell = cells[i];\n        if (cell.cell_type === 'code') {\n            for (var j = 0; j < cell.output_area.outputs.length; j++) {\n                var data = cell.output_area.outputs[j];\n                if (data.data) {\n                    // IPython >= 3 moved mimebundle to data attribute of output\n                    data = data.data;\n                }\n                if (data['text/html'] === html_output) {\n                    return [cell, data, j];\n                }\n            }\n        }\n    }\n};\n\n// Register the function which deals with the matplotlib target/channel.\n// The kernel may be null if the page has been refreshed.\nif (IPython.notebook.kernel !== null) {\n    IPython.notebook.kernel.comm_manager.register_target(\n        'matplotlib',\n        mpl.mpl_figure_comm\n    );\n}\n",
      "text/plain": [
       "<IPython.core.display.Javascript object>"
      ]
     },
     "metadata": {},
     "output_type": "display_data"
    },
    {
     "data": {
      "text/html": [
       "<div id='6b2b1fb7-1e53-4168-b3c7-c769ad179642'></div>"
      ],
      "text/plain": [
       "<IPython.core.display.HTML object>"
      ]
     },
     "metadata": {},
     "output_type": "display_data"
    },
    {
     "name": "stderr",
     "output_type": "stream",
     "text": [
      "/tmp/ipykernel_8102/635650999.py:36: MatplotlibDeprecationWarning:\n",
      "\n",
      "Setting data with a non sequence type is deprecated since 3.7 and will be remove two minor releases later\n",
      "\n",
      "/tmp/ipykernel_8102/635650999.py:37: MatplotlibDeprecationWarning:\n",
      "\n",
      "Setting data with a non sequence type is deprecated since 3.7 and will be remove two minor releases later\n",
      "\n"
     ]
    }
   ],
   "source": [
    "import matplotlib.pyplot as plt\n",
    "from matplotlib.animation import FuncAnimation\n",
    "from PIL import Image\n",
    "\n",
    "%matplotlib notebook\n",
    "\n",
    "fig, ax = plt.subplots()\n",
    "ax.set_xlim(0, 100)\n",
    "ax.set_ylim(-1.5, 1.5)\n",
    "red_point, = ax.plot([], [], 'ro', markersize=10)\n",
    "blue_point, = ax.plot([], [], 'bo', markersize=10)\n",
    "\n",
    "green_duration = 9.58  # Czas trwania dla zielonej kropki (Bolt) w sekundach\n",
    "blue_duration = 14.55  # Czas trwania dla niebieskiej kropki (Average Person) w sekundach\n",
    "fps = 30  # Liczba klatek na sekundę\n",
    "green_frames = int(green_duration * fps)\n",
    "blue_frames = int(blue_duration * fps)\n",
    "\n",
    "# Inicjalizacja osi czasu\n",
    "time_text = ax.text(0.02, 0.95, '', transform=ax.transAxes, ha='left', va='top')\n",
    "\n",
    "# Usunięcie siatki dla osi Y\n",
    "ax.yaxis.set_visible(False)\n",
    "\n",
    "# Podpisanie osi Y jako \"Start\"\n",
    "ax.text(-10, 0, 'Start', ha='center', va='center', rotation='vertical')\n",
    "\n",
    "# Dodanie kratki na końcu\n",
    "ax.axvline(x=100, color='green', linestyle='--')\n",
    "\n",
    "def update(frame):\n",
    "    green_x = frame / green_frames * 100\n",
    "    blue_x = frame / blue_frames * 100\n",
    "\n",
    "    # Aktualizacja pozycji kropek\n",
    "    red_point.set_data(green_x, -0.5)  # Zielona kropka dla Bolta\n",
    "    blue_point.set_data(blue_x, 0.5)  # Niebieska kropka dla Average Person\n",
    "\n",
    "    # Aktualizacja osi czasu\n",
    "    elapsed_time = frame / fps\n",
    "    time_text.set_text('Elapsed Time: {:.2f} s'.format(elapsed_time))\n",
    "\n",
    "    # Zatrzymywanie zielonej kropki (Bolta) po 9.58 sekundach\n",
    "    if elapsed_time >= green_duration:\n",
    "        red_point.set_data([], [])  # Usunięcie zielonej kropki (Bolta)\n",
    "\n",
    "    return red_point, blue_point, time_text\n",
    "\n",
    "# Zmiana koloru linii dla Bolta na zielony\n",
    "red_point.set_color('green')\n",
    "\n",
    "# Dodanie legendy w prawym górnym rogu\n",
    "ax.legend(['Usain Bolt', 'Average Person'], loc='upper right')\n",
    "\n",
    "animation = FuncAnimation(fig, update, frames=blue_frames, interval=1000/fps, blit=True)\n",
    "\n",
    "# Zapisywanie animacji jako pliku GIF\n",
    "animation.save('animation.gif', writer='pillow')\n",
    "\n",
    "plt.show()"
   ]
  },
  {
   "attachments": {},
   "cell_type": "markdown",
   "metadata": {},
   "source": [
    "##### DONE PRZEROBIONE Z MATPLOTLIB NA PPLOTLY - KUBA ######"
   ]
  },
  {
   "cell_type": "code",
   "execution_count": 14,
   "metadata": {},
   "outputs": [],
   "source": [
    "import csv\n",
    "from datetime import datetime\n",
    "import re\n",
    "import pandas as pd\n",
    "import numpy as np\n",
    "import plotly.graph_objects as go\n",
    "\n",
    "def calculate_age(birth_date, event_date):\n",
    "    birth_date = datetime.strptime(birth_date, \"%d.%m.%y\")\n",
    "    event_date = datetime.strptime(event_date, \"%d.%m.%Y\")\n",
    "    \n",
    "    birth_year = birth_date.year\n",
    "    event_year = event_date.year\n",
    "    \n",
    "    if birth_year > 2010:\n",
    "        birth_year = birth_year - 100\n",
    "    \n",
    "    age = event_year - birth_year\n",
    "    if event_date.month < birth_date.month or (event_date.month == birth_date.month and event_date.day < birth_date.day):\n",
    "        age -= 1\n",
    "    return age\n",
    "\n",
    "\n",
    "def remove_last_character(value):\n",
    "    pattern = r'\\D$'  # Wzorzec do dopasowania ostatniego niecyfrowego znaku\n",
    "    return re.sub(pattern, '', value)\n",
    "\n",
    "\n",
    "# Wczytanie danych z pliku CSV\n",
    "data = pd.read_csv('men_100m.csv')\n",
    "\n",
    "# Usunięcie litery na końcu wartości w kolumnie 'Time'\n",
    "data['Time'] = data['Time'].apply(remove_last_character)\n",
    "\n",
    "# Konwersja kolumny 'Time' na liczbę zmiennoprzecinkową\n",
    "data['Time'] = data['Time'].str.replace(',', '.').astype(float)\n",
    "\n",
    "# Znalezienie najlepszego czasu dla każdego zawodnika\n",
    "best_times = data.groupby('Athlete')['Time'].min()\n",
    "\n",
    "all_ages = []\n",
    "# Iteracja po zawodnikach i ich najlepszych czasach\n",
    "for athlete, best_time in best_times.items():\n",
    "    athlete_data = data[(data['Athlete'] == athlete) & (data['Time'] == best_time)]\n",
    "    \n",
    "    birth_date = athlete_data['Date of Birth'].values[0]\n",
    "    event_date = athlete_data['Event Date'].values[0]\n",
    "\n",
    "    # Sprawdzenie, czy birth_date lub event_date jest puste lub nie jest prawidłową datą\n",
    "    if pd.isnull(birth_date) or pd.isnull(event_date) or not isinstance(birth_date, str) or not isinstance(event_date, str):\n",
    "        continue\n",
    "    \n",
    "    try:\n",
    "        age = calculate_age(birth_date, event_date)\n",
    "        all_ages.append(age)\n",
    "    except ValueError:\n",
    "        continue\n",
    "\n",
    "unique_values, frequencies = np.unique(all_ages, return_counts=True)\n",
    "value_to_delete = 83\n",
    "\n",
    "# Znalezienie indeksu wartości do usunięcia\n",
    "index_to_delete = np.where(unique_values == value_to_delete)[0]\n",
    "unique_values = np.delete(unique_values, index_to_delete)\n",
    "frequencies = np.delete(frequencies, index_to_delete)\n",
    "\n",
    "# Tworzenie wykresu w Plotly\n",
    "fig = go.Figure()\n",
    "\n",
    "# Dodawanie słupków na wykres\n",
    "fig.add_trace(go.Bar(\n",
    "    x=unique_values,\n",
    "    y=frequencies,\n",
    "    marker_color='#4287f5',  # Kolor słupków\n",
    "    text=frequencies,\n",
    "    textposition='outside',  # Wyświetlanie tekstu nad słupkiem\n",
    "    textfont=dict(size=12, color='black')  # Konfiguracja czcionki tekstu\n",
    "))\n",
    "\n",
    "# Konfiguracja osi i tytułu wykresu\n",
    "fig.update_layout(\n",
    "    xaxis_title='Wiek biegacza',\n",
    "    yaxis_title='Liczba biegaczy, którzy ustawili rekord osobisty',\n",
    "    title='Wiek vs Personal Best',\n",
    "    xaxis=dict(type='linear'),  # Wymuszenie liniowego układu osi X\n",
    "    yaxis=dict(showgrid=True, gridcolor='lightgray'),  # Wyświetlanie siatki na osi Y\n",
    "    height=700\n",
    ")\n",
    "\n",
    "# Zapisywanie wykresu w pliku HTML\n",
    "fig.write_html('personal_best_graph.html')\n",
    "\n"
   ]
  },
  {
   "cell_type": "code",
   "execution_count": 19,
   "metadata": {},
   "outputs": [],
   "source": [
    "import pandas as pd\n",
    "import numpy as np\n",
    "import plotly.graph_objects as go\n",
    "\n",
    "# Wczytanie danych z pliku CSV\n",
    "df = pd.read_csv('heatmap_runners.csv')\n",
    "\n",
    "# Tworzenie macierzy danych\n",
    "heatmap_data = []\n",
    "athletes = df['Athlete'].unique()\n",
    "ages = range(18, 41)  # Zakres wieku od 18 do 40\n",
    "for athlete in athletes:\n",
    "    row = []\n",
    "    for age in ages:\n",
    "        birth_year = df.loc[df['Athlete'] == athlete, 'Date of Birth'].values[0]\n",
    "        time = df.loc[np.logical_and(df['Date of Birth'] + age == df['Run Date'], df['Athlete'] == athlete), 'Time'].values\n",
    "        row.append(time[0] if len(time) > 0 else None)\n",
    "    heatmap_data.append(row)\n",
    "\n",
    "# Tworzenie heatmapy w Plotly z dostosowaną skalą kolorów\n",
    "fig = go.Figure(data=go.Heatmap(\n",
    "    z=heatmap_data,\n",
    "    x=list(ages),\n",
    "    y=athletes,\n",
    "    colorscale='Reds',  # Zmiana skali kolorów na 'Reds'\n",
    "    reversescale=True,  # Odwrócenie skali kolorów\n",
    "    xgap=0.1,  # Odstęp między prostokątami na osi X\n",
    "))\n",
    "\n",
    "# Konwertowanie wartości na osi Y na typ numeryczny\n",
    "numeric_athletes = [i for i in range(len(athletes))]\n",
    "\n",
    "# Konfiguracja osi i tytułu wykresu\n",
    "fig.update_layout(\n",
    "    xaxis_title='Wiek',\n",
    "    yaxis_title='Zawodnik',\n",
    "    title='Najlepsze wyniki sprinterów w zależności od wieku',\n",
    "    yaxis=dict(\n",
    "        tickmode='array',\n",
    "        tickvals=numeric_athletes,\n",
    "        ticktext=athletes,\n",
    "        range=[numeric_athletes[0]-0.5, numeric_athletes[-1]+0.5],  # Ograniczenie zakresu osi Y\n",
    "    ),\n",
    "    height=500\n",
    ")\n",
    "\n",
    "\n",
    "\n",
    "\n",
    "fig.write_html('heatmap.html')\n"
   ]
  },
  {
   "cell_type": "code",
   "execution_count": null,
   "metadata": {},
   "outputs": [],
   "source": [
    "import plotly.graph_objects as go\n",
    "import pandas as pd\n",
    "\n",
    "# Wczytywanie danych z pliku CSV\n",
    "df = pd.read_csv('men_100m.csv')\n",
    "\n",
    "# Konwersja kolumny 'Wind' na typ float\n",
    "df['Wind'] = pd.to_numeric(df['Wind'], errors='coerce')\n",
    "\n",
    "# Usunięcie literek \"A\" na końcu niektórych wartości czasu\n",
    "df['Time'] = df['Time'].str.rstrip('A')\n",
    "\n",
    "# Usunięcie duplikatów\n",
    "df = df.drop_duplicates(subset=['Time', 'Wind'])\n",
    "\n",
    "# Podział danych na dodatni i ujemny wiatr\n",
    "positive_wind = df[df['Wind'] >= 0]\n",
    "negative_wind = df[df['Wind'] < 0]\n",
    "\n",
    "# Tworzenie wykresu\n",
    "fig = go.Figure()\n",
    "\n",
    "fig.add_trace(go.Scatter(\n",
    "    x=positive_wind['Time'],\n",
    "    y=positive_wind['Wind'],\n",
    "    mode='markers',\n",
    "    marker=dict(\n",
    "        size=8,\n",
    "        color='red'  # Zmiana koloru na czerwony\n",
    "    ),\n",
    "    name='Wiatr pozytywny'\n",
    "))\n",
    "\n",
    "fig.add_trace(go.Scatter(\n",
    "    x=negative_wind['Time'],\n",
    "    y=negative_wind['Wind'],\n",
    "    mode='markers',\n",
    "    marker=dict(\n",
    "        size=8,\n",
    "        color='blue'  # Zmiana koloru na niebieski\n",
    "    ),\n",
    "    name='Wiatr negatywny'\n",
    "))\n",
    "\n",
    "# Ustawienia osi\n",
    "fig.update_layout(\n",
    "    title='Zależność między wiatrem a czasem',\n",
    "    xaxis=dict(title='Czas'),\n",
    "    yaxis=dict(title='Wiatr', range=[-2.5, 2.5]),\n",
    "    height=700\n",
    ")\n",
    "\n",
    "\n",
    "# Wyświetlanie wykresu\n",
    "fig.write_html('wind.html')\n"
   ]
  },
  {
   "attachments": {},
   "cell_type": "markdown",
   "metadata": {},
   "source": [
    "#### DEVELOPMENT MODE - MARIUSZ ###"
   ]
  },
  {
   "cell_type": "code",
   "execution_count": null,
   "metadata": {},
   "outputs": [
    {
     "name": "stdout",
     "output_type": "stream",
     "text": [
      "Defaulting to user installation because normal site-packages is not writeable\n",
      "Requirement already satisfied: pycountry in /Users/zjakubb/Library/Python/3.9/lib/python/site-packages (22.3.5)\n",
      "Requirement already satisfied: setuptools in /Library/Developer/CommandLineTools/Library/Frameworks/Python3.framework/Versions/3.9/lib/python3.9/site-packages (from pycountry) (58.0.4)\n",
      "\n",
      "\u001b[1m[\u001b[0m\u001b[34;49mnotice\u001b[0m\u001b[1;39;49m]\u001b[0m\u001b[39;49m A new release of pip available: \u001b[0m\u001b[31;49m22.3\u001b[0m\u001b[39;49m -> \u001b[0m\u001b[32;49m23.1.2\u001b[0m\n",
      "\u001b[1m[\u001b[0m\u001b[34;49mnotice\u001b[0m\u001b[1;39;49m]\u001b[0m\u001b[39;49m To update, run: \u001b[0m\u001b[32;49m/Library/Developer/CommandLineTools/usr/bin/python3 -m pip install --upgrade pip\u001b[0m\n",
      "Note: you may need to restart the kernel to use updated packages.\n"
     ]
    }
   ],
   "source": [
    "%pip install pycountry"
   ]
  },
  {
   "cell_type": "code",
   "execution_count": 2,
   "metadata": {},
   "outputs": [
    {
     "data": {
      "application/vnd.plotly.v1+json": {
       "config": {
        "plotlyServerURL": "https://plot.ly"
       },
       "data": [
        {
         "coloraxis": "coloraxis",
         "geo": "geo",
         "hovertemplate": "Country=%{location}<br>Liczba Biegaczy=%{z}<extra></extra>",
         "locationmode": "ISO-3",
         "locations": [
          "USA",
          "JPN",
          "NGA",
          "BRB",
          "GBR",
          "ZAF",
          "FRA",
          "TTO",
          "JAM",
          "CIV",
          "KNA",
          "CUB",
          "CAN",
          "SLE",
          "NAM",
          "Vides",
          "GHA",
          "TUR",
          "QAT",
          "LBR",
          "KEN",
          "BRA",
          "HUN",
          "DOM",
          "DEU",
          "ESP",
          "AUS",
          "ITA",
          "NLD",
          "BHS",
          "OMN",
          "ZMB",
          "NZL",
          "CHN",
          "NOR",
          "ATG",
          "KOR",
          "PAN",
          "BRN",
          "COL",
          "UKR",
          "LKA",
          "INA",
          "CHE",
          "AZE",
          "IRN",
          "PRT",
          "CYM",
          "ECU",
          "CMR",
          "MYS",
          "ZWE",
          "Santos",
          "POL",
          "SAU",
          "BWA",
          "KAZ",
          "MAR",
          "THA"
         ],
         "name": "",
         "type": "choropleth",
         "z": [
          168,
          14,
          26,
          5,
          21,
          18,
          9,
          14,
          56,
          5,
          3,
          7,
          10,
          1,
          2,
          1,
          12,
          3,
          3,
          2,
          2,
          7,
          2,
          2,
          8,
          1,
          4,
          5,
          2,
          3,
          1,
          2,
          1,
          4,
          2,
          3,
          1,
          1,
          1,
          1,
          2,
          1,
          1,
          1,
          1,
          1,
          2,
          1,
          1,
          1,
          1,
          3,
          1,
          1,
          1,
          1,
          1,
          1,
          1
         ]
        }
       ],
       "layout": {
        "coloraxis": {
         "colorbar": {
          "title": {
           "text": "Liczba Biegaczy"
          }
         },
         "colorscale": [
          [
           0,
           "rgb(255,255,204)"
          ],
          [
           0.125,
           "rgb(255,237,160)"
          ],
          [
           0.25,
           "rgb(254,217,118)"
          ],
          [
           0.375,
           "rgb(254,178,76)"
          ],
          [
           0.5,
           "rgb(253,141,60)"
          ],
          [
           0.625,
           "rgb(252,78,42)"
          ],
          [
           0.75,
           "rgb(227,26,28)"
          ],
          [
           0.875,
           "rgb(189,0,38)"
          ],
          [
           1,
           "rgb(128,0,38)"
          ]
         ]
        },
        "font": {
         "size": 12
        },
        "geo": {
         "center": {},
         "domain": {
          "x": [
           0,
           1
          ],
          "y": [
           0,
           1
          ]
         },
         "projection": {
          "type": "natural earth"
         },
         "showcoastlines": false,
         "showframe": false
        },
        "height": 700,
        "legend": {
         "tracegroupgap": 0
        },
        "template": {
         "data": {
          "bar": [
           {
            "error_x": {
             "color": "#2a3f5f"
            },
            "error_y": {
             "color": "#2a3f5f"
            },
            "marker": {
             "line": {
              "color": "#E5ECF6",
              "width": 0.5
             },
             "pattern": {
              "fillmode": "overlay",
              "size": 10,
              "solidity": 0.2
             }
            },
            "type": "bar"
           }
          ],
          "barpolar": [
           {
            "marker": {
             "line": {
              "color": "#E5ECF6",
              "width": 0.5
             },
             "pattern": {
              "fillmode": "overlay",
              "size": 10,
              "solidity": 0.2
             }
            },
            "type": "barpolar"
           }
          ],
          "carpet": [
           {
            "aaxis": {
             "endlinecolor": "#2a3f5f",
             "gridcolor": "white",
             "linecolor": "white",
             "minorgridcolor": "white",
             "startlinecolor": "#2a3f5f"
            },
            "baxis": {
             "endlinecolor": "#2a3f5f",
             "gridcolor": "white",
             "linecolor": "white",
             "minorgridcolor": "white",
             "startlinecolor": "#2a3f5f"
            },
            "type": "carpet"
           }
          ],
          "choropleth": [
           {
            "colorbar": {
             "outlinewidth": 0,
             "ticks": ""
            },
            "type": "choropleth"
           }
          ],
          "contour": [
           {
            "colorbar": {
             "outlinewidth": 0,
             "ticks": ""
            },
            "colorscale": [
             [
              0,
              "#0d0887"
             ],
             [
              0.1111111111111111,
              "#46039f"
             ],
             [
              0.2222222222222222,
              "#7201a8"
             ],
             [
              0.3333333333333333,
              "#9c179e"
             ],
             [
              0.4444444444444444,
              "#bd3786"
             ],
             [
              0.5555555555555556,
              "#d8576b"
             ],
             [
              0.6666666666666666,
              "#ed7953"
             ],
             [
              0.7777777777777778,
              "#fb9f3a"
             ],
             [
              0.8888888888888888,
              "#fdca26"
             ],
             [
              1,
              "#f0f921"
             ]
            ],
            "type": "contour"
           }
          ],
          "contourcarpet": [
           {
            "colorbar": {
             "outlinewidth": 0,
             "ticks": ""
            },
            "type": "contourcarpet"
           }
          ],
          "heatmap": [
           {
            "colorbar": {
             "outlinewidth": 0,
             "ticks": ""
            },
            "colorscale": [
             [
              0,
              "#0d0887"
             ],
             [
              0.1111111111111111,
              "#46039f"
             ],
             [
              0.2222222222222222,
              "#7201a8"
             ],
             [
              0.3333333333333333,
              "#9c179e"
             ],
             [
              0.4444444444444444,
              "#bd3786"
             ],
             [
              0.5555555555555556,
              "#d8576b"
             ],
             [
              0.6666666666666666,
              "#ed7953"
             ],
             [
              0.7777777777777778,
              "#fb9f3a"
             ],
             [
              0.8888888888888888,
              "#fdca26"
             ],
             [
              1,
              "#f0f921"
             ]
            ],
            "type": "heatmap"
           }
          ],
          "heatmapgl": [
           {
            "colorbar": {
             "outlinewidth": 0,
             "ticks": ""
            },
            "colorscale": [
             [
              0,
              "#0d0887"
             ],
             [
              0.1111111111111111,
              "#46039f"
             ],
             [
              0.2222222222222222,
              "#7201a8"
             ],
             [
              0.3333333333333333,
              "#9c179e"
             ],
             [
              0.4444444444444444,
              "#bd3786"
             ],
             [
              0.5555555555555556,
              "#d8576b"
             ],
             [
              0.6666666666666666,
              "#ed7953"
             ],
             [
              0.7777777777777778,
              "#fb9f3a"
             ],
             [
              0.8888888888888888,
              "#fdca26"
             ],
             [
              1,
              "#f0f921"
             ]
            ],
            "type": "heatmapgl"
           }
          ],
          "histogram": [
           {
            "marker": {
             "pattern": {
              "fillmode": "overlay",
              "size": 10,
              "solidity": 0.2
             }
            },
            "type": "histogram"
           }
          ],
          "histogram2d": [
           {
            "colorbar": {
             "outlinewidth": 0,
             "ticks": ""
            },
            "colorscale": [
             [
              0,
              "#0d0887"
             ],
             [
              0.1111111111111111,
              "#46039f"
             ],
             [
              0.2222222222222222,
              "#7201a8"
             ],
             [
              0.3333333333333333,
              "#9c179e"
             ],
             [
              0.4444444444444444,
              "#bd3786"
             ],
             [
              0.5555555555555556,
              "#d8576b"
             ],
             [
              0.6666666666666666,
              "#ed7953"
             ],
             [
              0.7777777777777778,
              "#fb9f3a"
             ],
             [
              0.8888888888888888,
              "#fdca26"
             ],
             [
              1,
              "#f0f921"
             ]
            ],
            "type": "histogram2d"
           }
          ],
          "histogram2dcontour": [
           {
            "colorbar": {
             "outlinewidth": 0,
             "ticks": ""
            },
            "colorscale": [
             [
              0,
              "#0d0887"
             ],
             [
              0.1111111111111111,
              "#46039f"
             ],
             [
              0.2222222222222222,
              "#7201a8"
             ],
             [
              0.3333333333333333,
              "#9c179e"
             ],
             [
              0.4444444444444444,
              "#bd3786"
             ],
             [
              0.5555555555555556,
              "#d8576b"
             ],
             [
              0.6666666666666666,
              "#ed7953"
             ],
             [
              0.7777777777777778,
              "#fb9f3a"
             ],
             [
              0.8888888888888888,
              "#fdca26"
             ],
             [
              1,
              "#f0f921"
             ]
            ],
            "type": "histogram2dcontour"
           }
          ],
          "mesh3d": [
           {
            "colorbar": {
             "outlinewidth": 0,
             "ticks": ""
            },
            "type": "mesh3d"
           }
          ],
          "parcoords": [
           {
            "line": {
             "colorbar": {
              "outlinewidth": 0,
              "ticks": ""
             }
            },
            "type": "parcoords"
           }
          ],
          "pie": [
           {
            "automargin": true,
            "type": "pie"
           }
          ],
          "scatter": [
           {
            "fillpattern": {
             "fillmode": "overlay",
             "size": 10,
             "solidity": 0.2
            },
            "type": "scatter"
           }
          ],
          "scatter3d": [
           {
            "line": {
             "colorbar": {
              "outlinewidth": 0,
              "ticks": ""
             }
            },
            "marker": {
             "colorbar": {
              "outlinewidth": 0,
              "ticks": ""
             }
            },
            "type": "scatter3d"
           }
          ],
          "scattercarpet": [
           {
            "marker": {
             "colorbar": {
              "outlinewidth": 0,
              "ticks": ""
             }
            },
            "type": "scattercarpet"
           }
          ],
          "scattergeo": [
           {
            "marker": {
             "colorbar": {
              "outlinewidth": 0,
              "ticks": ""
             }
            },
            "type": "scattergeo"
           }
          ],
          "scattergl": [
           {
            "marker": {
             "colorbar": {
              "outlinewidth": 0,
              "ticks": ""
             }
            },
            "type": "scattergl"
           }
          ],
          "scattermapbox": [
           {
            "marker": {
             "colorbar": {
              "outlinewidth": 0,
              "ticks": ""
             }
            },
            "type": "scattermapbox"
           }
          ],
          "scatterpolar": [
           {
            "marker": {
             "colorbar": {
              "outlinewidth": 0,
              "ticks": ""
             }
            },
            "type": "scatterpolar"
           }
          ],
          "scatterpolargl": [
           {
            "marker": {
             "colorbar": {
              "outlinewidth": 0,
              "ticks": ""
             }
            },
            "type": "scatterpolargl"
           }
          ],
          "scatterternary": [
           {
            "marker": {
             "colorbar": {
              "outlinewidth": 0,
              "ticks": ""
             }
            },
            "type": "scatterternary"
           }
          ],
          "surface": [
           {
            "colorbar": {
             "outlinewidth": 0,
             "ticks": ""
            },
            "colorscale": [
             [
              0,
              "#0d0887"
             ],
             [
              0.1111111111111111,
              "#46039f"
             ],
             [
              0.2222222222222222,
              "#7201a8"
             ],
             [
              0.3333333333333333,
              "#9c179e"
             ],
             [
              0.4444444444444444,
              "#bd3786"
             ],
             [
              0.5555555555555556,
              "#d8576b"
             ],
             [
              0.6666666666666666,
              "#ed7953"
             ],
             [
              0.7777777777777778,
              "#fb9f3a"
             ],
             [
              0.8888888888888888,
              "#fdca26"
             ],
             [
              1,
              "#f0f921"
             ]
            ],
            "type": "surface"
           }
          ],
          "table": [
           {
            "cells": {
             "fill": {
              "color": "#EBF0F8"
             },
             "line": {
              "color": "white"
             }
            },
            "header": {
             "fill": {
              "color": "#C8D4E3"
             },
             "line": {
              "color": "white"
             }
            },
            "type": "table"
           }
          ]
         },
         "layout": {
          "annotationdefaults": {
           "arrowcolor": "#2a3f5f",
           "arrowhead": 0,
           "arrowwidth": 1
          },
          "autotypenumbers": "strict",
          "coloraxis": {
           "colorbar": {
            "outlinewidth": 0,
            "ticks": ""
           }
          },
          "colorscale": {
           "diverging": [
            [
             0,
             "#8e0152"
            ],
            [
             0.1,
             "#c51b7d"
            ],
            [
             0.2,
             "#de77ae"
            ],
            [
             0.3,
             "#f1b6da"
            ],
            [
             0.4,
             "#fde0ef"
            ],
            [
             0.5,
             "#f7f7f7"
            ],
            [
             0.6,
             "#e6f5d0"
            ],
            [
             0.7,
             "#b8e186"
            ],
            [
             0.8,
             "#7fbc41"
            ],
            [
             0.9,
             "#4d9221"
            ],
            [
             1,
             "#276419"
            ]
           ],
           "sequential": [
            [
             0,
             "#0d0887"
            ],
            [
             0.1111111111111111,
             "#46039f"
            ],
            [
             0.2222222222222222,
             "#7201a8"
            ],
            [
             0.3333333333333333,
             "#9c179e"
            ],
            [
             0.4444444444444444,
             "#bd3786"
            ],
            [
             0.5555555555555556,
             "#d8576b"
            ],
            [
             0.6666666666666666,
             "#ed7953"
            ],
            [
             0.7777777777777778,
             "#fb9f3a"
            ],
            [
             0.8888888888888888,
             "#fdca26"
            ],
            [
             1,
             "#f0f921"
            ]
           ],
           "sequentialminus": [
            [
             0,
             "#0d0887"
            ],
            [
             0.1111111111111111,
             "#46039f"
            ],
            [
             0.2222222222222222,
             "#7201a8"
            ],
            [
             0.3333333333333333,
             "#9c179e"
            ],
            [
             0.4444444444444444,
             "#bd3786"
            ],
            [
             0.5555555555555556,
             "#d8576b"
            ],
            [
             0.6666666666666666,
             "#ed7953"
            ],
            [
             0.7777777777777778,
             "#fb9f3a"
            ],
            [
             0.8888888888888888,
             "#fdca26"
            ],
            [
             1,
             "#f0f921"
            ]
           ]
          },
          "colorway": [
           "#636efa",
           "#EF553B",
           "#00cc96",
           "#ab63fa",
           "#FFA15A",
           "#19d3f3",
           "#FF6692",
           "#B6E880",
           "#FF97FF",
           "#FECB52"
          ],
          "font": {
           "color": "#2a3f5f"
          },
          "geo": {
           "bgcolor": "white",
           "lakecolor": "white",
           "landcolor": "#E5ECF6",
           "showlakes": true,
           "showland": true,
           "subunitcolor": "white"
          },
          "hoverlabel": {
           "align": "left"
          },
          "hovermode": "closest",
          "mapbox": {
           "style": "light"
          },
          "paper_bgcolor": "white",
          "plot_bgcolor": "#E5ECF6",
          "polar": {
           "angularaxis": {
            "gridcolor": "white",
            "linecolor": "white",
            "ticks": ""
           },
           "bgcolor": "#E5ECF6",
           "radialaxis": {
            "gridcolor": "white",
            "linecolor": "white",
            "ticks": ""
           }
          },
          "scene": {
           "xaxis": {
            "backgroundcolor": "#E5ECF6",
            "gridcolor": "white",
            "gridwidth": 2,
            "linecolor": "white",
            "showbackground": true,
            "ticks": "",
            "zerolinecolor": "white"
           },
           "yaxis": {
            "backgroundcolor": "#E5ECF6",
            "gridcolor": "white",
            "gridwidth": 2,
            "linecolor": "white",
            "showbackground": true,
            "ticks": "",
            "zerolinecolor": "white"
           },
           "zaxis": {
            "backgroundcolor": "#E5ECF6",
            "gridcolor": "white",
            "gridwidth": 2,
            "linecolor": "white",
            "showbackground": true,
            "ticks": "",
            "zerolinecolor": "white"
           }
          },
          "shapedefaults": {
           "line": {
            "color": "#2a3f5f"
           }
          },
          "ternary": {
           "aaxis": {
            "gridcolor": "white",
            "linecolor": "white",
            "ticks": ""
           },
           "baxis": {
            "gridcolor": "white",
            "linecolor": "white",
            "ticks": ""
           },
           "bgcolor": "#E5ECF6",
           "caxis": {
            "gridcolor": "white",
            "linecolor": "white",
            "ticks": ""
           }
          },
          "title": {
           "x": 0.05
          },
          "xaxis": {
           "automargin": true,
           "gridcolor": "white",
           "linecolor": "white",
           "ticks": "",
           "title": {
            "standoff": 15
           },
           "zerolinecolor": "white",
           "zerolinewidth": 2
          },
          "yaxis": {
           "automargin": true,
           "gridcolor": "white",
           "linecolor": "white",
           "ticks": "",
           "title": {
            "standoff": 15
           },
           "zerolinecolor": "white",
           "zerolinewidth": 2
          }
         }
        },
        "title": {
         "font": {
          "size": 20
         },
         "text": "Liczba biegaczy według kraju"
        },
        "width": 1220
       }
      }
     },
     "metadata": {},
     "output_type": "display_data"
    }
   ],
   "source": [
    "import csv\n",
    "import pycountry\n",
    "import pandas as pd\n",
    "# Create a set to store unique athletes and their countries\n",
    "import plotly.express as px\n",
    "athlete_country_set = set()\n",
    "\n",
    "# Read the CSV file\n",
    "with open('men_100m.csv', 'r') as file:\n",
    "    csv_reader = csv.reader(file)\n",
    "    next(csv_reader)  # Skip the header row\n",
    "\n",
    "    # Iterate through each row in the CSV\n",
    "    for row in csv_reader:\n",
    "        athlete = row[3]\n",
    "        country_code = row[4]\n",
    "        if country_code == 'GDR':\n",
    "            country_code = 'DEU'\n",
    "        if country_code == 'GER':\n",
    "           country_code = 'DEU'  \n",
    "        if country_code == 'RSA':\n",
    "           country_code =  'ZAF'   \n",
    "        if country_code == 'NGR':\n",
    "           country_code =  'NGA'\n",
    "        if country_code == 'POR':\n",
    "           country_code =  'PRT'     \n",
    "        if country_code == 'BAR':\n",
    "           country_code =  'BRB' \n",
    "        if country_code == 'ZIM':\n",
    "           country_code =  'ZWE'         \n",
    "        if country_code == 'BAH':\n",
    "           country_code =  'BHS'   \n",
    "        if country_code == 'ANT':\n",
    "           country_code =  'ATG'   \n",
    "        if country_code == 'NED':\n",
    "           country_code =  'NLD'   \n",
    "        if country_code == 'BOT':\n",
    "           country_code =  'BWA'   \n",
    "        if country_code == 'CAY':\n",
    "           country_code =  'CYM'   \n",
    "        if country_code == 'SKN':\n",
    "           country_code =  'KNA'   \n",
    "        if country_code == 'AHO':\n",
    "           country_code =  'NLD'   \n",
    "        if country_code == 'SRI':\n",
    "           country_code =  'LKA'   \n",
    "        if country_code == 'OMA':\n",
    "           country_code =  'OMN'   \n",
    "        if country_code == 'SUI':\n",
    "           country_code =  'CHE'   \n",
    "        if country_code == 'MAS':\n",
    "           country_code =  'MYS'   \n",
    "        if country_code == 'KSA':\n",
    "           country_code =  'SAU'       \n",
    "        if country_code == 'IRI':\n",
    "           country_code =  'IRN'  \n",
    "        if country_code == 'ZAM':\n",
    "           country_code =  'ZMB'  \n",
    "\n",
    "\n",
    "        athlete_country_set.add((athlete, country_code))\n",
    "\n",
    "# Create a dictionary to map country codes to country names\n",
    "#print(athlete_country_set)\n",
    "country_names = {}\n",
    "\n",
    "# Replace country codes with country names\n",
    "for athlete, country_code in athlete_country_set:\n",
    "    try:\n",
    "        country = pycountry.countries.get(alpha_3=country_code)\n",
    "        if country:\n",
    "            country_names[country_code] = country.name\n",
    "    except LookupError:\n",
    "        country_names[country_code] = 'Unknown'\n",
    "\n",
    "# Print each unique athlete with their full country name\n",
    "\n",
    "country_counts = {}\n",
    "for _, country_code in athlete_country_set:\n",
    "    if country_code in country_counts:\n",
    "        country_counts[country_code] += 1\n",
    "    else:\n",
    "        country_counts[country_code] = 1\n",
    "\n",
    "# Create a DataFrame from the country counts\n",
    "df = pd.DataFrame.from_dict(country_counts, orient='index', columns=['Liczba Biegaczy'])\n",
    "df['Country'] = df.index\n",
    "\n",
    "# Create the choropleth map\n",
    "fig = px.choropleth(df, locations='Country', locationmode='ISO-3', color='Liczba Biegaczy',\n",
    "                    title='Liczba biegaczy według kraju', color_continuous_scale='YlOrRd', )\n",
    "fig.update_layout(\n",
    "    title_font_size=20,  # Increase the title font size\n",
    "    font_size=12,  # Set the overall font size\n",
    "    geo=dict(\n",
    "        showframe=False,  # Hide the map frame\n",
    "        showcoastlines=False,  # Hide the coastlines\n",
    "        projection_type='natural earth'  # Use the natural earth projection\n",
    "    ),\n",
    "    height=700,  # Set the height of the graph (in pixels)\n",
    "    width=1220  # Set the width of the graph (in pixels)\n",
    ")\n",
    "# Show the map\n",
    "fig.show()\n",
    "\n",
    "fig.write_html(\"Runners_per_country.html\")\n"
   ]
  }
 ],
 "metadata": {
  "kernelspec": {
   "display_name": "Python 3",
   "language": "python",
   "name": "python3"
  },
  "language_info": {
   "codemirror_mode": {
    "name": "ipython",
    "version": 3
   },
   "file_extension": ".py",
   "mimetype": "text/x-python",
   "name": "python",
   "nbconvert_exporter": "python",
   "pygments_lexer": "ipython3",
   "version": "3.10.9"
  },
  "orig_nbformat": 4
 },
 "nbformat": 4,
 "nbformat_minor": 2
}
