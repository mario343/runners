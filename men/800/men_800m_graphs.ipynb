{
 "cells": [
  {
   "cell_type": "code",
   "execution_count": 2,
   "metadata": {},
   "outputs": [],
   "source": [
    "import pandas as pd\n",
    "import plotly.graph_objects as go\n",
    "\n",
    "# Wczytanie danych z pliku CSV\n",
    "data = pd.read_csv('men_800m.csv')\n",
    "\n",
    "# Obliczanie liczby wystąpień każdego kraju\n",
    "country_counts = data['Country'].value_counts()\n",
    "\n",
    "# Wybieranie top 10 krajów\n",
    "top_10_countries = country_counts.head(10)\n",
    "\n",
    "# Tworzenie wykresu słupkowego\n",
    "fig = go.Figure(data=[\n",
    "    go.Bar(x=top_10_countries.index, y=top_10_countries.values)\n",
    "])\n",
    "\n",
    "# Dodawanie liczby wystąpień nad słupkami\n",
    "fig.update_traces(text=top_10_countries.values, textposition='outside')\n",
    "\n",
    "# Aktualizowanie tytułu i osi\n",
    "fig.update_layout(\n",
    "    title='Top 10 Countries in Marathon Data',\n",
    "    xaxis_title='Country',\n",
    "    yaxis_title='Count'\n",
    ")\n",
    "\n",
    "# Zapisywanie wykresu do pliku HTML\n",
    "fig.write_html('top_10_countries.html')"
   ]
  }
 ],
 "metadata": {
  "kernelspec": {
   "display_name": "Python 3",
   "language": "python",
   "name": "python3"
  },
  "language_info": {
   "codemirror_mode": {
    "name": "ipython",
    "version": 3
   },
   "file_extension": ".py",
   "mimetype": "text/x-python",
   "name": "python",
   "nbconvert_exporter": "python",
   "pygments_lexer": "ipython3",
   "version": "3.9.6"
  },
  "orig_nbformat": 4
 },
 "nbformat": 4,
 "nbformat_minor": 2
}
