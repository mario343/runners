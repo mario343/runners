{
 "cells": [
  {
   "cell_type": "code",
   "execution_count": 12,
   "id": "f5494537",
   "metadata": {},
   "outputs": [],
   "source": [
    "import pandas as pd\n",
    "import re\n",
    "import plotly.graph_objects as go\n",
    "import datetime\n",
    "import csv\n",
    "import numpy as np\n",
    "from datetime import datetime\n",
    "import plotly.express as px"
   ]
  },
  {
   "cell_type": "code",
   "execution_count": 13,
   "id": "416c70a9",
   "metadata": {},
   "outputs": [],
   "source": [
    "# Funkcja do usunięcia dwukropka na końcu wartości\n",
    "def remove_last_character(value):\n",
    "    pattern = r':$'  # Wzorzec do dopasowania ostatniego dwukropka\n",
    "    return re.sub(pattern, '', value)\n",
    "\n",
    "# Funkcja do konwersji liczby sekund na format hh:mm:ss\n",
    "def format_time(seconds):\n",
    "    minutes, seconds = divmod(seconds, 60)\n",
    "    hours, minutes = divmod(minutes, 60)\n",
    "    return f'{int(hours)}:{int(minutes):02d}:{int(seconds):02d}'\n",
    "\n",
    "# Wczytanie danych z pliku CSV\n",
    "data = pd.read_csv('women_marathon.csv')\n",
    "\n",
    "# Konwersja kolumny 'Event Date' na typ daty\n",
    "data['Event Date'] = pd.to_datetime(data['Event Date'], format='%d.%m.%Y')\n",
    "\n",
    "# Usunięcie dwukropka na końcu wartości w kolumnie 'Time'\n",
    "data['Time'] = data['Time'].apply(remove_last_character)\n",
    "\n",
    "# Konwersja kolumny 'Time' na timedelta\n",
    "data['Time'] = pd.to_timedelta(data['Time'])\n",
    "\n",
    "# Dodanie nowej kolumny 'Year' na podstawie kolumny 'Event Date'\n",
    "data['Year'] = data['Event Date'].dt.year\n",
    "\n",
    "# Filtrowanie danych od roku 1975\n",
    "data = data[data['Year'] >= 1975]"
   ]
  },
  {
   "cell_type": "code",
   "execution_count": 14,
   "id": "56ae61c2",
   "metadata": {},
   "outputs": [
    {
     "name": "stdout",
     "output_type": "stream",
     "text": [
      "                  Time                Athlete\n",
      "Year                                         \n",
      "1979.0 0 days 02:27:33            Grete Waitz\n",
      "1980.0 0 days 02:25:42            Grete Waitz\n",
      "1981.0 0 days 02:26:46            Allison Roe\n",
      "1982.0 0 days 02:26:11            Joan Benoit\n",
      "1983.0 0 days 02:22:43            Joan Benoit\n",
      "1984.0 0 days 02:24:26     Ingrid Kristiansen\n",
      "1985.0 0 days 02:21:06     Ingrid Kristiansen\n",
      "1986.0 0 days 02:24:54            Grete Waitz\n",
      "1987.0 0 days 02:22:48     Ingrid Kristiansen\n",
      "1988.0 0 days 02:23:51           Lisa Ondieki\n",
      "1989.0 0 days 02:24:33     Ingrid Kristiansen\n",
      "1990.0 0 days 02:25:24              Rosa Mota\n",
      "1991.0 0 days 02:24:18           Wanda Panfil\n",
      "1992.0 0 days 02:23:43           Olga Markova\n",
      "1993.0 0 days 02:24:07            Wang Junxia\n",
      "1994.0 0 days 02:21:45             Uta Pippig\n",
      "1995.0 0 days 02:25:11             Uta Pippig\n",
      "1996.0 0 days 02:26:04           Katrin Dörre\n",
      "1997.0 0 days 02:22:07          Tegla Loroupe\n",
      "1998.0 0 days 02:20:47          Tegla Loroupe\n",
      "1999.0 0 days 02:20:43          Tegla Loroupe\n",
      "2000.0 0 days 02:21:33     Catherine N'dereba\n",
      "2001.0 0 days 02:18:47     Catherine N'dereba\n",
      "2002.0 0 days 02:17:18        Paula Radcliffe\n",
      "2003.0 0 days 02:15:25        Paula Radcliffe\n",
      "2004.0 0 days 02:19:41            Yoko Shibui\n",
      "2005.0 0 days 02:17:42        Paula Radcliffe\n",
      "2006.0 0 days 02:19:36           Deena Kastor\n",
      "2007.0 0 days 02:20:38           Zhou Chunxiu\n",
      "2008.0 0 days 02:19:19        Irina Mikitenko\n",
      "2009.0 0 days 02:22:11        Irina Mikitenko\n",
      "2010.0 0 days 02:22:04           Atsede Baysa\n",
      "2011.0 0 days 02:19:19           Mary Keitany\n",
      "2012.0 0 days 02:18:37           Mary Keitany\n",
      "2013.0 0 days 02:19:57   Rita Sitienei Jeptoo\n",
      "2014.0 0 days 02:18:57   Rita Sitienei Jeptoo\n",
      "2015.0 0 days 02:19:25         Gladys Cherono\n",
      "2016.0 0 days 02:19:41  Beyenne Tsegaye Tirfi\n",
      "2017.0 0 days 02:17:01           Mary Keitany\n",
      "2018.0 0 days 02:18:11         Gladys Cherono\n",
      "2019.0 0 days 02:14:04          Brigid Kosgei\n",
      "2020.0 0 days 02:17:16      Peres Jepchirchir\n",
      "2021.0 0 days 02:17:43    Joyciline Jepkosgei\n",
      "2022.0 0 days 02:14:18       Ruth Chepngetich\n",
      "2023.0 0 days 02:16:28       Rosemary Wanjiru\n"
     ]
    }
   ],
   "source": [
    "data_help = data.copy()\n",
    "best_results_names = data_help.groupby('Year').apply(lambda x: x.loc[x['Time'].idxmin(), ['Time', 'Athlete']])\n",
    "print(best_results_names)"
   ]
  },
  {
   "cell_type": "code",
   "execution_count": 15,
   "id": "f488da2e",
   "metadata": {},
   "outputs": [
    {
     "data": {
      "text/plain": [
       "['Grete Waitz',\n",
       " 'Allison Roe',\n",
       " 'Joan Benoit',\n",
       " 'Ingrid Kristiansen',\n",
       " 'Lisa Ondieki',\n",
       " 'Rosa Mota',\n",
       " 'Wanda Panfil',\n",
       " 'Olga Markova',\n",
       " 'Wang Junxia',\n",
       " 'Uta Pippig',\n",
       " 'Katrin Dörre',\n",
       " 'Tegla Loroupe',\n",
       " \"Catherine N'dereba\",\n",
       " 'Paula Radcliffe',\n",
       " 'Yoko Shibui',\n",
       " 'Deena Kastor',\n",
       " 'Zhou Chunxiu',\n",
       " 'Irina Mikitenko',\n",
       " 'Atsede Baysa',\n",
       " 'Mary Keitany',\n",
       " 'Rita Sitienei Jeptoo',\n",
       " 'Gladys Cherono',\n",
       " 'Beyenne Tsegaye Tirfi',\n",
       " 'Brigid Kosgei',\n",
       " 'Peres Jepchirchir',\n",
       " 'Joyciline Jepkosgei',\n",
       " 'Ruth Chepngetich',\n",
       " 'Rosemary Wanjiru']"
      ]
     },
     "execution_count": 15,
     "metadata": {},
     "output_type": "execute_result"
    }
   ],
   "source": [
    "top_runner_names_each_year = best_results_names['Athlete'].unique().tolist()\n",
    "top_runner_names_each_year"
   ]
  },
  {
   "cell_type": "code",
   "execution_count": 16,
   "id": "84056320",
   "metadata": {},
   "outputs": [],
   "source": [
    "color_names = [\n",
    "    \"AliceBlue\", \"AntiqueWhite\", \"Aqua\", \"Aquamarine\", \"Azure\", \"Beige\",\n",
    "    \"Bisque\", \"Black\", \"BlanchedAlmond\", \"Blue\", \"BlueViolet\", \"Brown\",\n",
    "    \"BurlyWood\", \"CadetBlue\", \"Chartreuse\", \"Chocolate\", \"Coral\", \"CornflowerBlue\",\n",
    "    \"Cornsilk\", \"Crimson\", \"Cyan\", \"DarkBlue\", \"DarkCyan\", \"DarkGoldenRod\",\n",
    "    \"DarkGray\", \"DarkGreen\", \"DarkKhaki\", \"DarkMagenta\", \"DarkOliveGreen\",\n",
    "    \"DarkOrange\", \"DarkOrchid\", \"DarkRed\", \"DarkSalmon\", \"DarkSeaGreen\",\n",
    "    \"DarkSlateBlue\", \"DarkSlateGray\", \"DarkTurquoise\", \"DarkViolet\", \"DeepPink\",\n",
    "    \"DeepSkyBlue\", \"DimGray\", \"DodgerBlue\", \"FireBrick\", \"FloralWhite\",\n",
    "    \"ForestGreen\", \"Fuchsia\", \"Gainsboro\", \"GhostWhite\", \"Gold\", \"GoldenRod\",\n",
    "    \"Gray\", \"Green\", \"GreenYellow\", \"HoneyDew\", \"HotPink\", \"IndianRed\", \"Indigo\",\n",
    "    \"Ivory\", \"Khaki\", \"Lavender\", \"LavenderBlush\", \"LawnGreen\", \"LemonChiffon\",\n",
    "    \"LightBlue\", \"LightCoral\", \"LightCyan\", \"LightGoldenRodYellow\", \"LightGray\",\n",
    "    \"LightGreen\", \"LightPink\", \"LightSalmon\", \"LightSeaGreen\", \"LightSkyBlue\",\n",
    "    \"LightSlateGray\", \"LightSteelBlue\", \"LightYellow\", \"Lime\", \"LimeGreen\",\n",
    "    \"Linen\", \"Magenta\", \"Maroon\", \"MediumAquaMarine\", \"MediumBlue\", \"MediumOrchid\",\n",
    "    \"MediumPurple\", \"MediumSeaGreen\", \"MediumSlateBlue\", \"MediumSpringGreen\",\n",
    "    \"MediumTurquoise\", \"MediumVioletRed\", \"MidnightBlue\", \"MintCream\", \"MistyRose\",\n",
    "    \"Moccasin\", \"NavajoWhite\", \"Navy\", \"OldLace\", \"Olive\", \"OliveDrab\",\n",
    "    \"Orange\", \"OrangeRed\", \"Orchid\", \"PaleGoldenRod\", \"PaleGreen\", \"PaleTurquoise\",\n",
    "    \"PaleVioletRed\", \"PapayaWhip\", \"PeachPuff\", \"Peru\", \"Pink\", \"Plum\",\n",
    "    \"PowderBlue\", \"Purple\", \"Red\", \"RosyBrown\", \"RoyalBlue\", \"SaddleBrown\",\n",
    "    \"Salmon\", \"SandyBrown\", \"SeaGreen\", \"SeaShell\", \"Sienna\", \"Silver\",\n",
    "    \"SkyBlue\", \"SlateBlue\", \"SlateGray\", \"Snow\", \"SpringGreen\", \"SteelBlue\",\n",
    "    \"Tan\", \"Teal\", \"Thistle\", \"Tomato\", \"Turquoise\", \"Violet\", \"Wheat\", \"White\",\n",
    "    \"WhiteSmoke\", \"Yellow\", \"YellowGreen\"\n",
    "]\n"
   ]
  },
  {
   "cell_type": "code",
   "execution_count": 17,
   "id": "208c824c",
   "metadata": {},
   "outputs": [
    {
     "data": {
      "text/plain": [
       "{'Grete Waitz': 'AliceBlue',\n",
       " 'Allison Roe': 'AntiqueWhite',\n",
       " 'Joan Benoit': 'Aqua',\n",
       " 'Ingrid Kristiansen': 'Aquamarine',\n",
       " 'Lisa Ondieki': 'Azure',\n",
       " 'Rosa Mota': 'Beige',\n",
       " 'Wanda Panfil': 'Bisque',\n",
       " 'Olga Markova': 'Black',\n",
       " 'Wang Junxia': 'BlanchedAlmond',\n",
       " 'Uta Pippig': 'Blue',\n",
       " 'Katrin Dörre': 'BlueViolet',\n",
       " 'Tegla Loroupe': 'Brown',\n",
       " \"Catherine N'dereba\": 'BurlyWood',\n",
       " 'Paula Radcliffe': 'CadetBlue',\n",
       " 'Yoko Shibui': 'Chartreuse',\n",
       " 'Deena Kastor': 'Chocolate',\n",
       " 'Zhou Chunxiu': 'Coral',\n",
       " 'Irina Mikitenko': 'CornflowerBlue',\n",
       " 'Atsede Baysa': 'Cornsilk',\n",
       " 'Mary Keitany': 'Crimson',\n",
       " 'Rita Sitienei Jeptoo': 'Cyan',\n",
       " 'Gladys Cherono': 'DarkBlue',\n",
       " 'Beyenne Tsegaye Tirfi': 'DarkCyan',\n",
       " 'Brigid Kosgei': 'DarkGoldenRod',\n",
       " 'Peres Jepchirchir': 'DarkGray',\n",
       " 'Joyciline Jepkosgei': 'DarkGreen',\n",
       " 'Ruth Chepngetich': 'DarkKhaki',\n",
       " 'Rosemary Wanjiru': 'DarkMagenta'}"
      ]
     },
     "execution_count": 17,
     "metadata": {},
     "output_type": "execute_result"
    }
   ],
   "source": [
    "athlete_colors = dict(zip(top_runner_names_each_year, color_names[:len(top_runner_names_each_year)]))\n",
    "athlete_colors"
   ]
  },
  {
   "cell_type": "code",
   "execution_count": 18,
   "id": "80e6a8af",
   "metadata": {},
   "outputs": [],
   "source": [
    "# Grupowanie danych według roku i wybór najlepszego wyniku dla każdego roku\n",
    "best_results = data.groupby('Year')['Time'].min().reset_index()\n",
    "\n",
    "# Wyszukanie najlepszych zawodników dla każdego roku\n",
    "best_athletes = data.merge(best_results, on=['Year', 'Time'])"
   ]
  },
  {
   "cell_type": "code",
   "execution_count": 19,
   "id": "28b12fd5",
   "metadata": {},
   "outputs": [
    {
     "data": {
      "application/vnd.plotly.v1+json": {
       "config": {
        "plotlyServerURL": "https://plot.ly"
       },
       "data": [
        {
         "hovertemplate": "%{text}<extra></extra>",
         "marker": {
          "color": "DarkGoldenRod",
          "size": 15
         },
         "mode": "markers",
         "name": "Brigid Kosgei",
         "text": [
          "Zawodniczka: Brigid Kosgei<br>Rok: 2019<br>Czas: 2:14:04<br>Kraj: KEN"
         ],
         "type": "scatter",
         "x": [
          2019
         ],
         "y": [
          8044
         ]
        },
        {
         "hovertemplate": "%{text}<extra></extra>",
         "marker": {
          "color": "DarkKhaki",
          "size": 15
         },
         "mode": "markers",
         "name": "Ruth Chepngetich",
         "text": [
          "Zawodniczka: Ruth Chepngetich<br>Rok: 2022<br>Czas: 2:14:18<br>Kraj: KEN"
         ],
         "type": "scatter",
         "x": [
          2022
         ],
         "y": [
          8058
         ]
        },
        {
         "hovertemplate": "%{text}<extra></extra>",
         "marker": {
          "color": "CadetBlue",
          "size": 15
         },
         "mode": "markers",
         "name": "Paula Radcliffe",
         "text": [
          "Zawodniczka: Paula Radcliffe<br>Rok: 2003<br>Czas: 2:15:25<br>Kraj: GBR"
         ],
         "type": "scatter",
         "x": [
          2003
         ],
         "y": [
          8125
         ]
        },
        {
         "hovertemplate": "%{text}<extra></extra>",
         "marker": {
          "color": "DarkMagenta",
          "size": 15
         },
         "mode": "markers",
         "name": "Rosemary Wanjiru",
         "text": [
          "Zawodniczka: Rosemary Wanjiru<br>Rok: 2023<br>Czas: 2:16:28<br>Kraj: KEN"
         ],
         "type": "scatter",
         "x": [
          2023
         ],
         "y": [
          8188
         ]
        },
        {
         "hovertemplate": "%{text}<extra></extra>",
         "marker": {
          "color": "Crimson",
          "size": 15
         },
         "mode": "markers",
         "name": "Mary Keitany",
         "text": [
          "Zawodniczka: Mary Keitany<br>Rok: 2017<br>Czas: 2:17:01<br>Kraj: KEN"
         ],
         "type": "scatter",
         "x": [
          2017
         ],
         "y": [
          8221
         ]
        },
        {
         "hovertemplate": "%{text}<extra></extra>",
         "marker": {
          "color": "DarkGray",
          "size": 15
         },
         "mode": "markers",
         "name": "Peres Jepchirchir",
         "text": [
          "Zawodniczka: Peres Jepchirchir<br>Rok: 2020<br>Czas: 2:17:16<br>Kraj: KEN"
         ],
         "type": "scatter",
         "x": [
          2020
         ],
         "y": [
          8236
         ]
        },
        {
         "hovertemplate": "%{text}<extra></extra>",
         "marker": {
          "color": "CadetBlue",
          "size": 15
         },
         "mode": "markers",
         "name": "Paula Radcliffe",
         "text": [
          "Zawodniczka: Paula Radcliffe<br>Rok: 2002<br>Czas: 2:17:18<br>Kraj: GBR"
         ],
         "type": "scatter",
         "x": [
          2002
         ],
         "y": [
          8238
         ]
        },
        {
         "hovertemplate": "%{text}<extra></extra>",
         "marker": {
          "color": "CadetBlue",
          "size": 15
         },
         "mode": "markers",
         "name": "Paula Radcliffe",
         "text": [
          "Zawodniczka: Paula Radcliffe<br>Rok: 2005<br>Czas: 2:17:42<br>Kraj: GBR"
         ],
         "type": "scatter",
         "x": [
          2005
         ],
         "y": [
          8262
         ]
        },
        {
         "hovertemplate": "%{text}<extra></extra>",
         "marker": {
          "color": "DarkGreen",
          "size": 15
         },
         "mode": "markers",
         "name": "Joyciline Jepkosgei",
         "text": [
          "Zawodniczka: Joyciline Jepkosgei<br>Rok: 2021<br>Czas: 2:17:43<br>Kraj: KEN"
         ],
         "type": "scatter",
         "x": [
          2021
         ],
         "y": [
          8263
         ]
        },
        {
         "hovertemplate": "%{text}<extra></extra>",
         "marker": {
          "color": "DarkBlue",
          "size": 15
         },
         "mode": "markers",
         "name": "Gladys Cherono",
         "text": [
          "Zawodniczka: Gladys Cherono<br>Rok: 2018<br>Czas: 2:18:11<br>Kraj: KEN"
         ],
         "type": "scatter",
         "x": [
          2018
         ],
         "y": [
          8291
         ]
        },
        {
         "hovertemplate": "%{text}<extra></extra>",
         "marker": {
          "color": "Crimson",
          "size": 15
         },
         "mode": "markers",
         "name": "Mary Keitany",
         "text": [
          "Zawodniczka: Mary Keitany<br>Rok: 2012<br>Czas: 2:18:37<br>Kraj: KEN"
         ],
         "type": "scatter",
         "x": [
          2012
         ],
         "y": [
          8317
         ]
        },
        {
         "hovertemplate": "%{text}<extra></extra>",
         "marker": {
          "color": "BurlyWood",
          "size": 15
         },
         "mode": "markers",
         "name": "Catherine N'dereba",
         "text": [
          "Zawodniczka: Catherine N'dereba<br>Rok: 2001<br>Czas: 2:18:47<br>Kraj: KEN"
         ],
         "type": "scatter",
         "x": [
          2001
         ],
         "y": [
          8327
         ]
        },
        {
         "hovertemplate": "%{text}<extra></extra>",
         "marker": {
          "color": "Cyan",
          "size": 15
         },
         "mode": "markers",
         "name": "Rita Sitienei Jeptoo",
         "text": [
          "Zawodniczka: Rita Sitienei Jeptoo<br>Rok: 2014<br>Czas: 2:18:57<br>Kraj: KEN"
         ],
         "type": "scatter",
         "x": [
          2014
         ],
         "y": [
          8337
         ]
        },
        {
         "hovertemplate": "%{text}<extra></extra>",
         "marker": {
          "color": "CornflowerBlue",
          "size": 15
         },
         "mode": "markers",
         "name": "Irina Mikitenko",
         "text": [
          "Zawodniczka: Irina Mikitenko<br>Rok: 2008<br>Czas: 2:19:19<br>Kraj: GER"
         ],
         "type": "scatter",
         "x": [
          2008
         ],
         "y": [
          8359
         ]
        },
        {
         "hovertemplate": "%{text}<extra></extra>",
         "marker": {
          "color": "Crimson",
          "size": 15
         },
         "mode": "markers",
         "name": "Mary Keitany",
         "text": [
          "Zawodniczka: Mary Keitany<br>Rok: 2011<br>Czas: 2:19:19<br>Kraj: KEN"
         ],
         "type": "scatter",
         "x": [
          2011
         ],
         "y": [
          8359
         ]
        },
        {
         "hovertemplate": "%{text}<extra></extra>",
         "marker": {
          "color": "DarkBlue",
          "size": 15
         },
         "mode": "markers",
         "name": "Gladys Cherono",
         "text": [
          "Zawodniczka: Gladys Cherono<br>Rok: 2015<br>Czas: 2:19:25<br>Kraj: KEN"
         ],
         "type": "scatter",
         "x": [
          2015
         ],
         "y": [
          8365
         ]
        },
        {
         "hovertemplate": "%{text}<extra></extra>",
         "marker": {
          "color": "Chocolate",
          "size": 15
         },
         "mode": "markers",
         "name": "Deena Kastor",
         "text": [
          "Zawodniczka: Deena Kastor<br>Rok: 2006<br>Czas: 2:19:36<br>Kraj: USA"
         ],
         "type": "scatter",
         "x": [
          2006
         ],
         "y": [
          8376
         ]
        },
        {
         "hovertemplate": "%{text}<extra></extra>",
         "marker": {
          "color": "Chartreuse",
          "size": 15
         },
         "mode": "markers",
         "name": "Yoko Shibui",
         "text": [
          "Zawodniczka: Yoko Shibui<br>Rok: 2004<br>Czas: 2:19:41<br>Kraj: JPN"
         ],
         "type": "scatter",
         "x": [
          2004
         ],
         "y": [
          8381
         ]
        },
        {
         "hovertemplate": "%{text}<extra></extra>",
         "marker": {
          "color": "DarkCyan",
          "size": 15
         },
         "mode": "markers",
         "name": "Beyenne Tsegaye Tirfi",
         "text": [
          "Zawodniczka: Beyenne Tsegaye Tirfi<br>Rok: 2016<br>Czas: 2:19:41<br>Kraj: ETH"
         ],
         "type": "scatter",
         "x": [
          2016
         ],
         "y": [
          8381
         ]
        },
        {
         "hovertemplate": "%{text}<extra></extra>",
         "marker": {
          "color": "Cyan",
          "size": 15
         },
         "mode": "markers",
         "name": "Rita Sitienei Jeptoo",
         "text": [
          "Zawodniczka: Rita Sitienei Jeptoo<br>Rok: 2013<br>Czas: 2:19:57<br>Kraj: KEN"
         ],
         "type": "scatter",
         "x": [
          2013
         ],
         "y": [
          8397
         ]
        },
        {
         "hovertemplate": "%{text}<extra></extra>",
         "marker": {
          "color": "Coral",
          "size": 15
         },
         "mode": "markers",
         "name": "Zhou Chunxiu",
         "text": [
          "Zawodniczka: Zhou Chunxiu<br>Rok: 2007<br>Czas: 2:20:38<br>Kraj: CHN"
         ],
         "type": "scatter",
         "x": [
          2007
         ],
         "y": [
          8438
         ]
        },
        {
         "hovertemplate": "%{text}<extra></extra>",
         "marker": {
          "color": "Brown",
          "size": 15
         },
         "mode": "markers",
         "name": "Tegla Loroupe",
         "text": [
          "Zawodniczka: Tegla Loroupe<br>Rok: 1999<br>Czas: 2:20:43<br>Kraj: KEN"
         ],
         "type": "scatter",
         "x": [
          1999
         ],
         "y": [
          8443
         ]
        },
        {
         "hovertemplate": "%{text}<extra></extra>",
         "marker": {
          "color": "Brown",
          "size": 15
         },
         "mode": "markers",
         "name": "Tegla Loroupe",
         "text": [
          "Zawodniczka: Tegla Loroupe<br>Rok: 1998<br>Czas: 2:20:47<br>Kraj: KEN"
         ],
         "type": "scatter",
         "x": [
          1998
         ],
         "y": [
          8447
         ]
        },
        {
         "hovertemplate": "%{text}<extra></extra>",
         "marker": {
          "color": "Aquamarine",
          "size": 15
         },
         "mode": "markers",
         "name": "Ingrid Kristiansen",
         "text": [
          "Zawodniczka: Ingrid Kristiansen<br>Rok: 1985<br>Czas: 2:21:06<br>Kraj: NOR"
         ],
         "type": "scatter",
         "x": [
          1985
         ],
         "y": [
          8466
         ]
        },
        {
         "hovertemplate": "%{text}<extra></extra>",
         "marker": {
          "color": "BurlyWood",
          "size": 15
         },
         "mode": "markers",
         "name": "Catherine N'dereba",
         "text": [
          "Zawodniczka: Catherine N'dereba<br>Rok: 2000<br>Czas: 2:21:33<br>Kraj: KEN"
         ],
         "type": "scatter",
         "x": [
          2000
         ],
         "y": [
          8493
         ]
        },
        {
         "hovertemplate": "%{text}<extra></extra>",
         "marker": {
          "color": "Blue",
          "size": 15
         },
         "mode": "markers",
         "name": "Uta Pippig",
         "text": [
          "Zawodniczka: Uta Pippig<br>Rok: 1994<br>Czas: 2:21:45<br>Kraj: GER"
         ],
         "type": "scatter",
         "x": [
          1994
         ],
         "y": [
          8505
         ]
        },
        {
         "hovertemplate": "%{text}<extra></extra>",
         "marker": {
          "color": "Cornsilk",
          "size": 15
         },
         "mode": "markers",
         "name": "Atsede Baysa",
         "text": [
          "Zawodniczka: Atsede Baysa<br>Rok: 2010<br>Czas: 2:22:04<br>Kraj: ETH"
         ],
         "type": "scatter",
         "x": [
          2010
         ],
         "y": [
          8524
         ]
        },
        {
         "hovertemplate": "%{text}<extra></extra>",
         "marker": {
          "color": "Brown",
          "size": 15
         },
         "mode": "markers",
         "name": "Tegla Loroupe",
         "text": [
          "Zawodniczka: Tegla Loroupe<br>Rok: 1997<br>Czas: 2:22:07<br>Kraj: KEN"
         ],
         "type": "scatter",
         "x": [
          1997
         ],
         "y": [
          8527
         ]
        },
        {
         "hovertemplate": "%{text}<extra></extra>",
         "marker": {
          "color": "CornflowerBlue",
          "size": 15
         },
         "mode": "markers",
         "name": "Irina Mikitenko",
         "text": [
          "Zawodniczka: Irina Mikitenko<br>Rok: 2009<br>Czas: 2:22:11<br>Kraj: GER"
         ],
         "type": "scatter",
         "x": [
          2009
         ],
         "y": [
          8531
         ]
        },
        {
         "hovertemplate": "%{text}<extra></extra>",
         "marker": {
          "color": "Aqua",
          "size": 15
         },
         "mode": "markers",
         "name": "Joan Benoit",
         "text": [
          "Zawodniczka: Joan Benoit<br>Rok: 1983<br>Czas: 2:22:43<br>Kraj: USA"
         ],
         "type": "scatter",
         "x": [
          1983
         ],
         "y": [
          8563
         ]
        },
        {
         "hovertemplate": "%{text}<extra></extra>",
         "marker": {
          "color": "Aquamarine",
          "size": 15
         },
         "mode": "markers",
         "name": "Ingrid Kristiansen",
         "text": [
          "Zawodniczka: Ingrid Kristiansen<br>Rok: 1987<br>Czas: 2:22:48<br>Kraj: NOR"
         ],
         "type": "scatter",
         "x": [
          1987
         ],
         "y": [
          8568
         ]
        },
        {
         "hovertemplate": "%{text}<extra></extra>",
         "marker": {
          "color": "Black",
          "size": 15
         },
         "mode": "markers",
         "name": "Olga Markova",
         "text": [
          "Zawodniczka: Olga Markova<br>Rok: 1992<br>Czas: 2:23:43<br>Kraj: RUS"
         ],
         "type": "scatter",
         "x": [
          1992
         ],
         "y": [
          8623
         ]
        },
        {
         "hovertemplate": "%{text}<extra></extra>",
         "marker": {
          "color": "Azure",
          "size": 15
         },
         "mode": "markers",
         "name": "Lisa Ondieki",
         "text": [
          "Zawodniczka: Lisa Ondieki<br>Rok: 1988<br>Czas: 2:23:51<br>Kraj: AUS"
         ],
         "type": "scatter",
         "x": [
          1988
         ],
         "y": [
          8631
         ]
        },
        {
         "hovertemplate": "%{text}<extra></extra>",
         "marker": {
          "color": "BlanchedAlmond",
          "size": 15
         },
         "mode": "markers",
         "name": "Wang Junxia",
         "text": [
          "Zawodniczka: Wang Junxia<br>Rok: 1993<br>Czas: 2:24:07<br>Kraj: CHN"
         ],
         "type": "scatter",
         "x": [
          1993
         ],
         "y": [
          8647
         ]
        },
        {
         "hovertemplate": "%{text}<extra></extra>",
         "marker": {
          "color": "Bisque",
          "size": 15
         },
         "mode": "markers",
         "name": "Wanda Panfil",
         "text": [
          "Zawodniczka: Wanda Panfil<br>Rok: 1991<br>Czas: 2:24:18<br>Kraj: POL"
         ],
         "type": "scatter",
         "x": [
          1991
         ],
         "y": [
          8658
         ]
        },
        {
         "hovertemplate": "%{text}<extra></extra>",
         "marker": {
          "color": "Aquamarine",
          "size": 15
         },
         "mode": "markers",
         "name": "Ingrid Kristiansen",
         "text": [
          "Zawodniczka: Ingrid Kristiansen<br>Rok: 1984<br>Czas: 2:24:26<br>Kraj: NOR"
         ],
         "type": "scatter",
         "x": [
          1984
         ],
         "y": [
          8666
         ]
        },
        {
         "hovertemplate": "%{text}<extra></extra>",
         "marker": {
          "color": "Aquamarine",
          "size": 15
         },
         "mode": "markers",
         "name": "Ingrid Kristiansen",
         "text": [
          "Zawodniczka: Ingrid Kristiansen<br>Rok: 1989<br>Czas: 2:24:33<br>Kraj: NOR"
         ],
         "type": "scatter",
         "x": [
          1989
         ],
         "y": [
          8673
         ]
        },
        {
         "hovertemplate": "%{text}<extra></extra>",
         "marker": {
          "color": "AliceBlue",
          "size": 15
         },
         "mode": "markers",
         "name": "Grete Waitz",
         "text": [
          "Zawodniczka: Grete Waitz<br>Rok: 1986<br>Czas: 2:24:54<br>Kraj: NOR"
         ],
         "type": "scatter",
         "x": [
          1986
         ],
         "y": [
          8694
         ]
        },
        {
         "hovertemplate": "%{text}<extra></extra>",
         "marker": {
          "color": "Blue",
          "size": 15
         },
         "mode": "markers",
         "name": "Uta Pippig",
         "text": [
          "Zawodniczka: Uta Pippig<br>Rok: 1995<br>Czas: 2:25:11<br>Kraj: GER"
         ],
         "type": "scatter",
         "x": [
          1995
         ],
         "y": [
          8711
         ]
        },
        {
         "hovertemplate": "%{text}<extra></extra>",
         "marker": {
          "color": "Beige",
          "size": 15
         },
         "mode": "markers",
         "name": "Rosa Mota",
         "text": [
          "Zawodniczka: Rosa Mota<br>Rok: 1990<br>Czas: 2:25:24<br>Kraj: POR"
         ],
         "type": "scatter",
         "x": [
          1990
         ],
         "y": [
          8724
         ]
        },
        {
         "hovertemplate": "%{text}<extra></extra>",
         "marker": {
          "color": "AliceBlue",
          "size": 15
         },
         "mode": "markers",
         "name": "Grete Waitz",
         "text": [
          "Zawodniczka: Grete Waitz<br>Rok: 1980<br>Czas: 2:25:42<br>Kraj: NOR"
         ],
         "type": "scatter",
         "x": [
          1980
         ],
         "y": [
          8742
         ]
        },
        {
         "hovertemplate": "%{text}<extra></extra>",
         "marker": {
          "color": "BlueViolet",
          "size": 15
         },
         "mode": "markers",
         "name": "Katrin Dörre",
         "text": [
          "Zawodniczka: Katrin Dörre<br>Rok: 1996<br>Czas: 2:26:04<br>Kraj: GER"
         ],
         "type": "scatter",
         "x": [
          1996
         ],
         "y": [
          8764
         ]
        },
        {
         "hovertemplate": "%{text}<extra></extra>",
         "marker": {
          "color": "Aqua",
          "size": 15
         },
         "mode": "markers",
         "name": "Joan Benoit",
         "text": [
          "Zawodniczka: Joan Benoit<br>Rok: 1982<br>Czas: 2:26:11<br>Kraj: USA"
         ],
         "type": "scatter",
         "x": [
          1982
         ],
         "y": [
          8771
         ]
        },
        {
         "hovertemplate": "%{text}<extra></extra>",
         "marker": {
          "color": "AntiqueWhite",
          "size": 15
         },
         "mode": "markers",
         "name": "Allison Roe",
         "text": [
          "Zawodniczka: Allison Roe<br>Rok: 1981<br>Czas: 2:26:46<br>Kraj: NZL"
         ],
         "type": "scatter",
         "x": [
          1981
         ],
         "y": [
          8806
         ]
        },
        {
         "hovertemplate": "%{text}<extra></extra>",
         "marker": {
          "color": "AliceBlue",
          "size": 15
         },
         "mode": "markers",
         "name": "Grete Waitz",
         "text": [
          "Zawodniczka: Grete Waitz<br>Rok: 1979<br>Czas: 2:27:33<br>Kraj: NOR"
         ],
         "type": "scatter",
         "x": [
          1979
         ],
         "y": [
          8853
         ]
        }
       ],
       "layout": {
        "height": 600,
        "showlegend": true,
        "template": {
         "data": {
          "bar": [
           {
            "error_x": {
             "color": "#2a3f5f"
            },
            "error_y": {
             "color": "#2a3f5f"
            },
            "marker": {
             "line": {
              "color": "#E5ECF6",
              "width": 0.5
             },
             "pattern": {
              "fillmode": "overlay",
              "size": 10,
              "solidity": 0.2
             }
            },
            "type": "bar"
           }
          ],
          "barpolar": [
           {
            "marker": {
             "line": {
              "color": "#E5ECF6",
              "width": 0.5
             },
             "pattern": {
              "fillmode": "overlay",
              "size": 10,
              "solidity": 0.2
             }
            },
            "type": "barpolar"
           }
          ],
          "carpet": [
           {
            "aaxis": {
             "endlinecolor": "#2a3f5f",
             "gridcolor": "white",
             "linecolor": "white",
             "minorgridcolor": "white",
             "startlinecolor": "#2a3f5f"
            },
            "baxis": {
             "endlinecolor": "#2a3f5f",
             "gridcolor": "white",
             "linecolor": "white",
             "minorgridcolor": "white",
             "startlinecolor": "#2a3f5f"
            },
            "type": "carpet"
           }
          ],
          "choropleth": [
           {
            "colorbar": {
             "outlinewidth": 0,
             "ticks": ""
            },
            "type": "choropleth"
           }
          ],
          "contour": [
           {
            "colorbar": {
             "outlinewidth": 0,
             "ticks": ""
            },
            "colorscale": [
             [
              0,
              "#0d0887"
             ],
             [
              0.1111111111111111,
              "#46039f"
             ],
             [
              0.2222222222222222,
              "#7201a8"
             ],
             [
              0.3333333333333333,
              "#9c179e"
             ],
             [
              0.4444444444444444,
              "#bd3786"
             ],
             [
              0.5555555555555556,
              "#d8576b"
             ],
             [
              0.6666666666666666,
              "#ed7953"
             ],
             [
              0.7777777777777778,
              "#fb9f3a"
             ],
             [
              0.8888888888888888,
              "#fdca26"
             ],
             [
              1,
              "#f0f921"
             ]
            ],
            "type": "contour"
           }
          ],
          "contourcarpet": [
           {
            "colorbar": {
             "outlinewidth": 0,
             "ticks": ""
            },
            "type": "contourcarpet"
           }
          ],
          "heatmap": [
           {
            "colorbar": {
             "outlinewidth": 0,
             "ticks": ""
            },
            "colorscale": [
             [
              0,
              "#0d0887"
             ],
             [
              0.1111111111111111,
              "#46039f"
             ],
             [
              0.2222222222222222,
              "#7201a8"
             ],
             [
              0.3333333333333333,
              "#9c179e"
             ],
             [
              0.4444444444444444,
              "#bd3786"
             ],
             [
              0.5555555555555556,
              "#d8576b"
             ],
             [
              0.6666666666666666,
              "#ed7953"
             ],
             [
              0.7777777777777778,
              "#fb9f3a"
             ],
             [
              0.8888888888888888,
              "#fdca26"
             ],
             [
              1,
              "#f0f921"
             ]
            ],
            "type": "heatmap"
           }
          ],
          "heatmapgl": [
           {
            "colorbar": {
             "outlinewidth": 0,
             "ticks": ""
            },
            "colorscale": [
             [
              0,
              "#0d0887"
             ],
             [
              0.1111111111111111,
              "#46039f"
             ],
             [
              0.2222222222222222,
              "#7201a8"
             ],
             [
              0.3333333333333333,
              "#9c179e"
             ],
             [
              0.4444444444444444,
              "#bd3786"
             ],
             [
              0.5555555555555556,
              "#d8576b"
             ],
             [
              0.6666666666666666,
              "#ed7953"
             ],
             [
              0.7777777777777778,
              "#fb9f3a"
             ],
             [
              0.8888888888888888,
              "#fdca26"
             ],
             [
              1,
              "#f0f921"
             ]
            ],
            "type": "heatmapgl"
           }
          ],
          "histogram": [
           {
            "marker": {
             "pattern": {
              "fillmode": "overlay",
              "size": 10,
              "solidity": 0.2
             }
            },
            "type": "histogram"
           }
          ],
          "histogram2d": [
           {
            "colorbar": {
             "outlinewidth": 0,
             "ticks": ""
            },
            "colorscale": [
             [
              0,
              "#0d0887"
             ],
             [
              0.1111111111111111,
              "#46039f"
             ],
             [
              0.2222222222222222,
              "#7201a8"
             ],
             [
              0.3333333333333333,
              "#9c179e"
             ],
             [
              0.4444444444444444,
              "#bd3786"
             ],
             [
              0.5555555555555556,
              "#d8576b"
             ],
             [
              0.6666666666666666,
              "#ed7953"
             ],
             [
              0.7777777777777778,
              "#fb9f3a"
             ],
             [
              0.8888888888888888,
              "#fdca26"
             ],
             [
              1,
              "#f0f921"
             ]
            ],
            "type": "histogram2d"
           }
          ],
          "histogram2dcontour": [
           {
            "colorbar": {
             "outlinewidth": 0,
             "ticks": ""
            },
            "colorscale": [
             [
              0,
              "#0d0887"
             ],
             [
              0.1111111111111111,
              "#46039f"
             ],
             [
              0.2222222222222222,
              "#7201a8"
             ],
             [
              0.3333333333333333,
              "#9c179e"
             ],
             [
              0.4444444444444444,
              "#bd3786"
             ],
             [
              0.5555555555555556,
              "#d8576b"
             ],
             [
              0.6666666666666666,
              "#ed7953"
             ],
             [
              0.7777777777777778,
              "#fb9f3a"
             ],
             [
              0.8888888888888888,
              "#fdca26"
             ],
             [
              1,
              "#f0f921"
             ]
            ],
            "type": "histogram2dcontour"
           }
          ],
          "mesh3d": [
           {
            "colorbar": {
             "outlinewidth": 0,
             "ticks": ""
            },
            "type": "mesh3d"
           }
          ],
          "parcoords": [
           {
            "line": {
             "colorbar": {
              "outlinewidth": 0,
              "ticks": ""
             }
            },
            "type": "parcoords"
           }
          ],
          "pie": [
           {
            "automargin": true,
            "type": "pie"
           }
          ],
          "scatter": [
           {
            "fillpattern": {
             "fillmode": "overlay",
             "size": 10,
             "solidity": 0.2
            },
            "type": "scatter"
           }
          ],
          "scatter3d": [
           {
            "line": {
             "colorbar": {
              "outlinewidth": 0,
              "ticks": ""
             }
            },
            "marker": {
             "colorbar": {
              "outlinewidth": 0,
              "ticks": ""
             }
            },
            "type": "scatter3d"
           }
          ],
          "scattercarpet": [
           {
            "marker": {
             "colorbar": {
              "outlinewidth": 0,
              "ticks": ""
             }
            },
            "type": "scattercarpet"
           }
          ],
          "scattergeo": [
           {
            "marker": {
             "colorbar": {
              "outlinewidth": 0,
              "ticks": ""
             }
            },
            "type": "scattergeo"
           }
          ],
          "scattergl": [
           {
            "marker": {
             "colorbar": {
              "outlinewidth": 0,
              "ticks": ""
             }
            },
            "type": "scattergl"
           }
          ],
          "scattermapbox": [
           {
            "marker": {
             "colorbar": {
              "outlinewidth": 0,
              "ticks": ""
             }
            },
            "type": "scattermapbox"
           }
          ],
          "scatterpolar": [
           {
            "marker": {
             "colorbar": {
              "outlinewidth": 0,
              "ticks": ""
             }
            },
            "type": "scatterpolar"
           }
          ],
          "scatterpolargl": [
           {
            "marker": {
             "colorbar": {
              "outlinewidth": 0,
              "ticks": ""
             }
            },
            "type": "scatterpolargl"
           }
          ],
          "scatterternary": [
           {
            "marker": {
             "colorbar": {
              "outlinewidth": 0,
              "ticks": ""
             }
            },
            "type": "scatterternary"
           }
          ],
          "surface": [
           {
            "colorbar": {
             "outlinewidth": 0,
             "ticks": ""
            },
            "colorscale": [
             [
              0,
              "#0d0887"
             ],
             [
              0.1111111111111111,
              "#46039f"
             ],
             [
              0.2222222222222222,
              "#7201a8"
             ],
             [
              0.3333333333333333,
              "#9c179e"
             ],
             [
              0.4444444444444444,
              "#bd3786"
             ],
             [
              0.5555555555555556,
              "#d8576b"
             ],
             [
              0.6666666666666666,
              "#ed7953"
             ],
             [
              0.7777777777777778,
              "#fb9f3a"
             ],
             [
              0.8888888888888888,
              "#fdca26"
             ],
             [
              1,
              "#f0f921"
             ]
            ],
            "type": "surface"
           }
          ],
          "table": [
           {
            "cells": {
             "fill": {
              "color": "#EBF0F8"
             },
             "line": {
              "color": "white"
             }
            },
            "header": {
             "fill": {
              "color": "#C8D4E3"
             },
             "line": {
              "color": "white"
             }
            },
            "type": "table"
           }
          ]
         },
         "layout": {
          "annotationdefaults": {
           "arrowcolor": "#2a3f5f",
           "arrowhead": 0,
           "arrowwidth": 1
          },
          "autotypenumbers": "strict",
          "coloraxis": {
           "colorbar": {
            "outlinewidth": 0,
            "ticks": ""
           }
          },
          "colorscale": {
           "diverging": [
            [
             0,
             "#8e0152"
            ],
            [
             0.1,
             "#c51b7d"
            ],
            [
             0.2,
             "#de77ae"
            ],
            [
             0.3,
             "#f1b6da"
            ],
            [
             0.4,
             "#fde0ef"
            ],
            [
             0.5,
             "#f7f7f7"
            ],
            [
             0.6,
             "#e6f5d0"
            ],
            [
             0.7,
             "#b8e186"
            ],
            [
             0.8,
             "#7fbc41"
            ],
            [
             0.9,
             "#4d9221"
            ],
            [
             1,
             "#276419"
            ]
           ],
           "sequential": [
            [
             0,
             "#0d0887"
            ],
            [
             0.1111111111111111,
             "#46039f"
            ],
            [
             0.2222222222222222,
             "#7201a8"
            ],
            [
             0.3333333333333333,
             "#9c179e"
            ],
            [
             0.4444444444444444,
             "#bd3786"
            ],
            [
             0.5555555555555556,
             "#d8576b"
            ],
            [
             0.6666666666666666,
             "#ed7953"
            ],
            [
             0.7777777777777778,
             "#fb9f3a"
            ],
            [
             0.8888888888888888,
             "#fdca26"
            ],
            [
             1,
             "#f0f921"
            ]
           ],
           "sequentialminus": [
            [
             0,
             "#0d0887"
            ],
            [
             0.1111111111111111,
             "#46039f"
            ],
            [
             0.2222222222222222,
             "#7201a8"
            ],
            [
             0.3333333333333333,
             "#9c179e"
            ],
            [
             0.4444444444444444,
             "#bd3786"
            ],
            [
             0.5555555555555556,
             "#d8576b"
            ],
            [
             0.6666666666666666,
             "#ed7953"
            ],
            [
             0.7777777777777778,
             "#fb9f3a"
            ],
            [
             0.8888888888888888,
             "#fdca26"
            ],
            [
             1,
             "#f0f921"
            ]
           ]
          },
          "colorway": [
           "#636efa",
           "#EF553B",
           "#00cc96",
           "#ab63fa",
           "#FFA15A",
           "#19d3f3",
           "#FF6692",
           "#B6E880",
           "#FF97FF",
           "#FECB52"
          ],
          "font": {
           "color": "#2a3f5f"
          },
          "geo": {
           "bgcolor": "white",
           "lakecolor": "white",
           "landcolor": "#E5ECF6",
           "showlakes": true,
           "showland": true,
           "subunitcolor": "white"
          },
          "hoverlabel": {
           "align": "left"
          },
          "hovermode": "closest",
          "mapbox": {
           "style": "light"
          },
          "paper_bgcolor": "white",
          "plot_bgcolor": "#E5ECF6",
          "polar": {
           "angularaxis": {
            "gridcolor": "white",
            "linecolor": "white",
            "ticks": ""
           },
           "bgcolor": "#E5ECF6",
           "radialaxis": {
            "gridcolor": "white",
            "linecolor": "white",
            "ticks": ""
           }
          },
          "scene": {
           "xaxis": {
            "backgroundcolor": "#E5ECF6",
            "gridcolor": "white",
            "gridwidth": 2,
            "linecolor": "white",
            "showbackground": true,
            "ticks": "",
            "zerolinecolor": "white"
           },
           "yaxis": {
            "backgroundcolor": "#E5ECF6",
            "gridcolor": "white",
            "gridwidth": 2,
            "linecolor": "white",
            "showbackground": true,
            "ticks": "",
            "zerolinecolor": "white"
           },
           "zaxis": {
            "backgroundcolor": "#E5ECF6",
            "gridcolor": "white",
            "gridwidth": 2,
            "linecolor": "white",
            "showbackground": true,
            "ticks": "",
            "zerolinecolor": "white"
           }
          },
          "shapedefaults": {
           "line": {
            "color": "#2a3f5f"
           }
          },
          "ternary": {
           "aaxis": {
            "gridcolor": "white",
            "linecolor": "white",
            "ticks": ""
           },
           "baxis": {
            "gridcolor": "white",
            "linecolor": "white",
            "ticks": ""
           },
           "bgcolor": "#E5ECF6",
           "caxis": {
            "gridcolor": "white",
            "linecolor": "white",
            "ticks": ""
           }
          },
          "title": {
           "x": 0.05
          },
          "xaxis": {
           "automargin": true,
           "gridcolor": "white",
           "linecolor": "white",
           "ticks": "",
           "title": {
            "standoff": 15
           },
           "zerolinecolor": "white",
           "zerolinewidth": 2
          },
          "yaxis": {
           "automargin": true,
           "gridcolor": "white",
           "linecolor": "white",
           "ticks": "",
           "title": {
            "standoff": 15
           },
           "zerolinecolor": "white",
           "zerolinewidth": 2
          }
         }
        },
        "title": {
         "text": "Najlepszy wynik w maratonie (HH:MM:SS)"
        },
        "xaxis": {
         "title": {
          "text": "Rok"
         }
        },
        "yaxis": {
         "ticktext": [
          "2:27:00",
          "2:24:00",
          "2:22:00",
          "2:20:00",
          "2:18:00",
          "2:16:00"
         ],
         "tickvals": [
          8900,
          8750,
          8550,
          8350,
          8150,
          8000
         ],
         "title": {
          "text": "Najlepszy czas"
         }
        }
       }
      }
     },
     "metadata": {},
     "output_type": "display_data"
    }
   ],
   "source": [
    "# Tworzenie wykresu za pomocą Plotly\n",
    "fig = go.Figure()\n",
    "\n",
    "# Dodawanie punktów na wykresie dla każdego zawodnika\n",
    "for index, row in best_athletes.iterrows():\n",
    "    athlete = row['Athlete']\n",
    "    year = row['Year']\n",
    "    time = row['Time']\n",
    "    country = row['Country']\n",
    "    time_str = format_time(time.total_seconds())\n",
    "    label = f\"Zawodniczka: {athlete}<br>Rok: {int(year)}<br>Czas: {time_str}<br>Kraj: {country}\"\n",
    "    color = athlete_colors.get(athlete, 'blue')  # Pobieranie koloru dla zawodnika, domyślnie 'blue'\n",
    "    fig.add_trace(go.Scatter(\n",
    "        x=[year],\n",
    "        y=[time.total_seconds()],\n",
    "        mode='markers',\n",
    "        name=athlete,\n",
    "        text=[label],\n",
    "        hovertemplate='%{text}<extra></extra>',\n",
    "        marker=dict(size=15, color=color),\n",
    "    ))\n",
    "\n",
    "# Konfiguracja układu wykresu\n",
    "fig.update_layout(\n",
    "    xaxis=dict(title='Rok'),\n",
    "    yaxis=dict(\n",
    "        title='Najlepszy czas',\n",
    "        tickvals=[8900, 8750, 8550, 8350, 8150, 8000],  # Wartości osi Y\n",
    "        ticktext=['2:27:00', '2:24:00', '2:22:00', '2:20:00', '2:18:00', '2:16:00'],  # Etykiety osi Y\n",
    "    ),\n",
    "    title='Najlepszy wynik w maratonie (HH:MM:SS)',\n",
    "    showlegend=True,\n",
    "    height= 600,\n",
    ")\n",
    "\n",
    "# Zapisywanie wykresu do pliku HTML\n",
    "fig.write_html('best_of_every_season.html')\n",
    "fig.show()\n",
    "\n"
   ]
  },
  {
   "cell_type": "code",
   "execution_count": 20,
   "id": "f245c55a",
   "metadata": {},
   "outputs": [
    {
     "data": {
      "application/vnd.plotly.v1+json": {
       "config": {
        "plotlyServerURL": "https://plot.ly"
       },
       "data": [
        {
         "marker": {
          "color": "#4287f5"
         },
         "text": [
          1,
          2,
          5,
          4,
          10,
          22,
          30,
          45,
          57,
          74,
          82,
          94,
          118,
          104,
          88,
          84,
          66,
          66,
          53,
          42,
          39,
          20,
          16,
          13,
          9,
          5,
          3,
          3,
          1,
          2,
          2,
          1
         ],
         "textfont": {
          "color": "black",
          "size": 12
         },
         "textposition": "outside",
         "type": "bar",
         "x": [
          4,
          15,
          17,
          18,
          19,
          20,
          21,
          22,
          23,
          24,
          25,
          26,
          27,
          28,
          29,
          30,
          31,
          32,
          33,
          34,
          35,
          36,
          37,
          38,
          39,
          40,
          41,
          42,
          43,
          44,
          45,
          46
         ],
         "y": [
          1,
          2,
          5,
          4,
          10,
          22,
          30,
          45,
          57,
          74,
          82,
          94,
          118,
          104,
          88,
          84,
          66,
          66,
          53,
          42,
          39,
          20,
          16,
          13,
          9,
          5,
          3,
          3,
          1,
          2,
          2,
          1
         ]
        }
       ],
       "layout": {
        "height": 600,
        "template": {
         "data": {
          "bar": [
           {
            "error_x": {
             "color": "#2a3f5f"
            },
            "error_y": {
             "color": "#2a3f5f"
            },
            "marker": {
             "line": {
              "color": "#E5ECF6",
              "width": 0.5
             },
             "pattern": {
              "fillmode": "overlay",
              "size": 10,
              "solidity": 0.2
             }
            },
            "type": "bar"
           }
          ],
          "barpolar": [
           {
            "marker": {
             "line": {
              "color": "#E5ECF6",
              "width": 0.5
             },
             "pattern": {
              "fillmode": "overlay",
              "size": 10,
              "solidity": 0.2
             }
            },
            "type": "barpolar"
           }
          ],
          "carpet": [
           {
            "aaxis": {
             "endlinecolor": "#2a3f5f",
             "gridcolor": "white",
             "linecolor": "white",
             "minorgridcolor": "white",
             "startlinecolor": "#2a3f5f"
            },
            "baxis": {
             "endlinecolor": "#2a3f5f",
             "gridcolor": "white",
             "linecolor": "white",
             "minorgridcolor": "white",
             "startlinecolor": "#2a3f5f"
            },
            "type": "carpet"
           }
          ],
          "choropleth": [
           {
            "colorbar": {
             "outlinewidth": 0,
             "ticks": ""
            },
            "type": "choropleth"
           }
          ],
          "contour": [
           {
            "colorbar": {
             "outlinewidth": 0,
             "ticks": ""
            },
            "colorscale": [
             [
              0,
              "#0d0887"
             ],
             [
              0.1111111111111111,
              "#46039f"
             ],
             [
              0.2222222222222222,
              "#7201a8"
             ],
             [
              0.3333333333333333,
              "#9c179e"
             ],
             [
              0.4444444444444444,
              "#bd3786"
             ],
             [
              0.5555555555555556,
              "#d8576b"
             ],
             [
              0.6666666666666666,
              "#ed7953"
             ],
             [
              0.7777777777777778,
              "#fb9f3a"
             ],
             [
              0.8888888888888888,
              "#fdca26"
             ],
             [
              1,
              "#f0f921"
             ]
            ],
            "type": "contour"
           }
          ],
          "contourcarpet": [
           {
            "colorbar": {
             "outlinewidth": 0,
             "ticks": ""
            },
            "type": "contourcarpet"
           }
          ],
          "heatmap": [
           {
            "colorbar": {
             "outlinewidth": 0,
             "ticks": ""
            },
            "colorscale": [
             [
              0,
              "#0d0887"
             ],
             [
              0.1111111111111111,
              "#46039f"
             ],
             [
              0.2222222222222222,
              "#7201a8"
             ],
             [
              0.3333333333333333,
              "#9c179e"
             ],
             [
              0.4444444444444444,
              "#bd3786"
             ],
             [
              0.5555555555555556,
              "#d8576b"
             ],
             [
              0.6666666666666666,
              "#ed7953"
             ],
             [
              0.7777777777777778,
              "#fb9f3a"
             ],
             [
              0.8888888888888888,
              "#fdca26"
             ],
             [
              1,
              "#f0f921"
             ]
            ],
            "type": "heatmap"
           }
          ],
          "heatmapgl": [
           {
            "colorbar": {
             "outlinewidth": 0,
             "ticks": ""
            },
            "colorscale": [
             [
              0,
              "#0d0887"
             ],
             [
              0.1111111111111111,
              "#46039f"
             ],
             [
              0.2222222222222222,
              "#7201a8"
             ],
             [
              0.3333333333333333,
              "#9c179e"
             ],
             [
              0.4444444444444444,
              "#bd3786"
             ],
             [
              0.5555555555555556,
              "#d8576b"
             ],
             [
              0.6666666666666666,
              "#ed7953"
             ],
             [
              0.7777777777777778,
              "#fb9f3a"
             ],
             [
              0.8888888888888888,
              "#fdca26"
             ],
             [
              1,
              "#f0f921"
             ]
            ],
            "type": "heatmapgl"
           }
          ],
          "histogram": [
           {
            "marker": {
             "pattern": {
              "fillmode": "overlay",
              "size": 10,
              "solidity": 0.2
             }
            },
            "type": "histogram"
           }
          ],
          "histogram2d": [
           {
            "colorbar": {
             "outlinewidth": 0,
             "ticks": ""
            },
            "colorscale": [
             [
              0,
              "#0d0887"
             ],
             [
              0.1111111111111111,
              "#46039f"
             ],
             [
              0.2222222222222222,
              "#7201a8"
             ],
             [
              0.3333333333333333,
              "#9c179e"
             ],
             [
              0.4444444444444444,
              "#bd3786"
             ],
             [
              0.5555555555555556,
              "#d8576b"
             ],
             [
              0.6666666666666666,
              "#ed7953"
             ],
             [
              0.7777777777777778,
              "#fb9f3a"
             ],
             [
              0.8888888888888888,
              "#fdca26"
             ],
             [
              1,
              "#f0f921"
             ]
            ],
            "type": "histogram2d"
           }
          ],
          "histogram2dcontour": [
           {
            "colorbar": {
             "outlinewidth": 0,
             "ticks": ""
            },
            "colorscale": [
             [
              0,
              "#0d0887"
             ],
             [
              0.1111111111111111,
              "#46039f"
             ],
             [
              0.2222222222222222,
              "#7201a8"
             ],
             [
              0.3333333333333333,
              "#9c179e"
             ],
             [
              0.4444444444444444,
              "#bd3786"
             ],
             [
              0.5555555555555556,
              "#d8576b"
             ],
             [
              0.6666666666666666,
              "#ed7953"
             ],
             [
              0.7777777777777778,
              "#fb9f3a"
             ],
             [
              0.8888888888888888,
              "#fdca26"
             ],
             [
              1,
              "#f0f921"
             ]
            ],
            "type": "histogram2dcontour"
           }
          ],
          "mesh3d": [
           {
            "colorbar": {
             "outlinewidth": 0,
             "ticks": ""
            },
            "type": "mesh3d"
           }
          ],
          "parcoords": [
           {
            "line": {
             "colorbar": {
              "outlinewidth": 0,
              "ticks": ""
             }
            },
            "type": "parcoords"
           }
          ],
          "pie": [
           {
            "automargin": true,
            "type": "pie"
           }
          ],
          "scatter": [
           {
            "fillpattern": {
             "fillmode": "overlay",
             "size": 10,
             "solidity": 0.2
            },
            "type": "scatter"
           }
          ],
          "scatter3d": [
           {
            "line": {
             "colorbar": {
              "outlinewidth": 0,
              "ticks": ""
             }
            },
            "marker": {
             "colorbar": {
              "outlinewidth": 0,
              "ticks": ""
             }
            },
            "type": "scatter3d"
           }
          ],
          "scattercarpet": [
           {
            "marker": {
             "colorbar": {
              "outlinewidth": 0,
              "ticks": ""
             }
            },
            "type": "scattercarpet"
           }
          ],
          "scattergeo": [
           {
            "marker": {
             "colorbar": {
              "outlinewidth": 0,
              "ticks": ""
             }
            },
            "type": "scattergeo"
           }
          ],
          "scattergl": [
           {
            "marker": {
             "colorbar": {
              "outlinewidth": 0,
              "ticks": ""
             }
            },
            "type": "scattergl"
           }
          ],
          "scattermapbox": [
           {
            "marker": {
             "colorbar": {
              "outlinewidth": 0,
              "ticks": ""
             }
            },
            "type": "scattermapbox"
           }
          ],
          "scatterpolar": [
           {
            "marker": {
             "colorbar": {
              "outlinewidth": 0,
              "ticks": ""
             }
            },
            "type": "scatterpolar"
           }
          ],
          "scatterpolargl": [
           {
            "marker": {
             "colorbar": {
              "outlinewidth": 0,
              "ticks": ""
             }
            },
            "type": "scatterpolargl"
           }
          ],
          "scatterternary": [
           {
            "marker": {
             "colorbar": {
              "outlinewidth": 0,
              "ticks": ""
             }
            },
            "type": "scatterternary"
           }
          ],
          "surface": [
           {
            "colorbar": {
             "outlinewidth": 0,
             "ticks": ""
            },
            "colorscale": [
             [
              0,
              "#0d0887"
             ],
             [
              0.1111111111111111,
              "#46039f"
             ],
             [
              0.2222222222222222,
              "#7201a8"
             ],
             [
              0.3333333333333333,
              "#9c179e"
             ],
             [
              0.4444444444444444,
              "#bd3786"
             ],
             [
              0.5555555555555556,
              "#d8576b"
             ],
             [
              0.6666666666666666,
              "#ed7953"
             ],
             [
              0.7777777777777778,
              "#fb9f3a"
             ],
             [
              0.8888888888888888,
              "#fdca26"
             ],
             [
              1,
              "#f0f921"
             ]
            ],
            "type": "surface"
           }
          ],
          "table": [
           {
            "cells": {
             "fill": {
              "color": "#EBF0F8"
             },
             "line": {
              "color": "white"
             }
            },
            "header": {
             "fill": {
              "color": "#C8D4E3"
             },
             "line": {
              "color": "white"
             }
            },
            "type": "table"
           }
          ]
         },
         "layout": {
          "annotationdefaults": {
           "arrowcolor": "#2a3f5f",
           "arrowhead": 0,
           "arrowwidth": 1
          },
          "autotypenumbers": "strict",
          "coloraxis": {
           "colorbar": {
            "outlinewidth": 0,
            "ticks": ""
           }
          },
          "colorscale": {
           "diverging": [
            [
             0,
             "#8e0152"
            ],
            [
             0.1,
             "#c51b7d"
            ],
            [
             0.2,
             "#de77ae"
            ],
            [
             0.3,
             "#f1b6da"
            ],
            [
             0.4,
             "#fde0ef"
            ],
            [
             0.5,
             "#f7f7f7"
            ],
            [
             0.6,
             "#e6f5d0"
            ],
            [
             0.7,
             "#b8e186"
            ],
            [
             0.8,
             "#7fbc41"
            ],
            [
             0.9,
             "#4d9221"
            ],
            [
             1,
             "#276419"
            ]
           ],
           "sequential": [
            [
             0,
             "#0d0887"
            ],
            [
             0.1111111111111111,
             "#46039f"
            ],
            [
             0.2222222222222222,
             "#7201a8"
            ],
            [
             0.3333333333333333,
             "#9c179e"
            ],
            [
             0.4444444444444444,
             "#bd3786"
            ],
            [
             0.5555555555555556,
             "#d8576b"
            ],
            [
             0.6666666666666666,
             "#ed7953"
            ],
            [
             0.7777777777777778,
             "#fb9f3a"
            ],
            [
             0.8888888888888888,
             "#fdca26"
            ],
            [
             1,
             "#f0f921"
            ]
           ],
           "sequentialminus": [
            [
             0,
             "#0d0887"
            ],
            [
             0.1111111111111111,
             "#46039f"
            ],
            [
             0.2222222222222222,
             "#7201a8"
            ],
            [
             0.3333333333333333,
             "#9c179e"
            ],
            [
             0.4444444444444444,
             "#bd3786"
            ],
            [
             0.5555555555555556,
             "#d8576b"
            ],
            [
             0.6666666666666666,
             "#ed7953"
            ],
            [
             0.7777777777777778,
             "#fb9f3a"
            ],
            [
             0.8888888888888888,
             "#fdca26"
            ],
            [
             1,
             "#f0f921"
            ]
           ]
          },
          "colorway": [
           "#636efa",
           "#EF553B",
           "#00cc96",
           "#ab63fa",
           "#FFA15A",
           "#19d3f3",
           "#FF6692",
           "#B6E880",
           "#FF97FF",
           "#FECB52"
          ],
          "font": {
           "color": "#2a3f5f"
          },
          "geo": {
           "bgcolor": "white",
           "lakecolor": "white",
           "landcolor": "#E5ECF6",
           "showlakes": true,
           "showland": true,
           "subunitcolor": "white"
          },
          "hoverlabel": {
           "align": "left"
          },
          "hovermode": "closest",
          "mapbox": {
           "style": "light"
          },
          "paper_bgcolor": "white",
          "plot_bgcolor": "#E5ECF6",
          "polar": {
           "angularaxis": {
            "gridcolor": "white",
            "linecolor": "white",
            "ticks": ""
           },
           "bgcolor": "#E5ECF6",
           "radialaxis": {
            "gridcolor": "white",
            "linecolor": "white",
            "ticks": ""
           }
          },
          "scene": {
           "xaxis": {
            "backgroundcolor": "#E5ECF6",
            "gridcolor": "white",
            "gridwidth": 2,
            "linecolor": "white",
            "showbackground": true,
            "ticks": "",
            "zerolinecolor": "white"
           },
           "yaxis": {
            "backgroundcolor": "#E5ECF6",
            "gridcolor": "white",
            "gridwidth": 2,
            "linecolor": "white",
            "showbackground": true,
            "ticks": "",
            "zerolinecolor": "white"
           },
           "zaxis": {
            "backgroundcolor": "#E5ECF6",
            "gridcolor": "white",
            "gridwidth": 2,
            "linecolor": "white",
            "showbackground": true,
            "ticks": "",
            "zerolinecolor": "white"
           }
          },
          "shapedefaults": {
           "line": {
            "color": "#2a3f5f"
           }
          },
          "ternary": {
           "aaxis": {
            "gridcolor": "white",
            "linecolor": "white",
            "ticks": ""
           },
           "baxis": {
            "gridcolor": "white",
            "linecolor": "white",
            "ticks": ""
           },
           "bgcolor": "#E5ECF6",
           "caxis": {
            "gridcolor": "white",
            "linecolor": "white",
            "ticks": ""
           }
          },
          "title": {
           "x": 0.05
          },
          "xaxis": {
           "automargin": true,
           "gridcolor": "white",
           "linecolor": "white",
           "ticks": "",
           "title": {
            "standoff": 15
           },
           "zerolinecolor": "white",
           "zerolinewidth": 2
          },
          "yaxis": {
           "automargin": true,
           "gridcolor": "white",
           "linecolor": "white",
           "ticks": "",
           "title": {
            "standoff": 15
           },
           "zerolinecolor": "white",
           "zerolinewidth": 2
          }
         }
        },
        "title": {
         "text": "Wiek vs Personal Best"
        },
        "xaxis": {
         "title": {
          "text": "Wiek biegaczki"
         },
         "type": "linear"
        },
        "yaxis": {
         "gridcolor": "lightgray",
         "showgrid": true,
         "title": {
          "text": "Liczba biegaczek, które ustanowiły rekord osobisty"
         }
        }
       }
      }
     },
     "metadata": {},
     "output_type": "display_data"
    }
   ],
   "source": [
    "def calculate_age(birth_date, event_date):\n",
    "    birth_date = datetime.strptime(birth_date, \"%d.%m.%y\")\n",
    "    event_date = datetime.strptime(event_date, \"%d.%m.%Y\")\n",
    "    \n",
    "    birth_year = birth_date.year\n",
    "    event_year = event_date.year\n",
    "    \n",
    "    if birth_year > 2010:\n",
    "        birth_year = birth_year - 100\n",
    "    \n",
    "    age = event_year - birth_year\n",
    "    if event_date.month < birth_date.month or (event_date.month == birth_date.month and event_date.day < birth_date.day):\n",
    "        age -= 1\n",
    "    return age\n",
    "\n",
    "\n",
    "def remove_last_character(value):\n",
    "    pattern = r'\\D$'  # Wzorzec do dopasowania ostatniego niecyfrowego znaku\n",
    "    return re.sub(pattern, '', value)\n",
    "\n",
    "\n",
    "# Wczytanie danych z pliku CSV\n",
    "data = pd.read_csv('women_marathon.csv')\n",
    "\n",
    "# Usunięcie litery na końcu wartości w kolumnie 'Time'\n",
    "data['Time'] = data['Time'].apply(remove_last_character)\n",
    "\n",
    "# Konwersja kolumny 'Time' na liczbę zmiennoprzecinkową\n",
    "data['Time'] = data['Time'].str.split(':').apply(lambda x: int(x[0]) * 3600 + int(x[1]) * 60 + int(x[2]))\n",
    "\n",
    "# Znalezienie najlepszego czasu dla każdego zawodnika\n",
    "best_times = data.groupby('Athlete')['Time'].min()\n",
    "\n",
    "all_ages = []\n",
    "# Iteracja po zawodnikach i ich najlepszych czasach\n",
    "for athlete, best_time in best_times.items():\n",
    "    athlete_data = data[(data['Athlete'] == athlete) & (data['Time'] == best_time)]\n",
    "    \n",
    "    birth_date = athlete_data['Date of Birth'].values[0]\n",
    "    event_date = athlete_data['Event Date'].values[0]\n",
    "\n",
    "    # Sprawdzenie, czy birth_date lub event_date jest puste lub nie jest prawidłową datą\n",
    "    if pd.isnull(birth_date) or pd.isnull(event_date) or not isinstance(birth_date, str) or not isinstance(event_date, str):\n",
    "        continue\n",
    "    \n",
    "    try:\n",
    "        age = calculate_age(birth_date, event_date)\n",
    "        all_ages.append(age)\n",
    "    except ValueError:\n",
    "        continue\n",
    "\n",
    "unique_values, frequencies = np.unique(all_ages, return_counts=True)\n",
    "value_to_delete = 83\n",
    "\n",
    "# Znalezienie indeksu wartości do usunięcia\n",
    "index_to_delete = np.where(unique_values == value_to_delete)[0]\n",
    "unique_values = np.delete(unique_values, index_to_delete)\n",
    "frequencies = np.delete(frequencies, index_to_delete)\n",
    "\n",
    "# Tworzenie wykresu w Plotly\n",
    "fig = go.Figure()\n",
    "\n",
    "# Dodawanie słupków na wykres\n",
    "fig.add_trace(go.Bar(\n",
    "    x=unique_values,\n",
    "    y=frequencies,\n",
    "    marker_color='#4287f5',  # Kolor słupków\n",
    "    text=frequencies,\n",
    "    textposition='outside',  # Wyświetlanie tekstu nad słupkiem\n",
    "    textfont=dict(size=12, color='black')  # Konfiguracja czcionki tekstu\n",
    "))\n",
    "\n",
    "# Konfiguracja osi i tytułu wykresu\n",
    "fig.update_layout(\n",
    "    xaxis_title='Wiek biegaczki',\n",
    "    yaxis_title='Liczba biegaczek, które ustanowiły rekord osobisty',\n",
    "    title='Wiek vs Personal Best',\n",
    "    xaxis=dict(type='linear'),  # Wymuszenie liniowego układu osi X\n",
    "    yaxis=dict(showgrid=True, gridcolor='lightgray'),  # Wyświetlanie siatki na osi Y\n",
    "    height= 600,\n",
    ")\n",
    "\n",
    "# Zapisywanie wykresu w pliku HTML\n",
    "fig.write_html('personal_best_graph.html')\n",
    "fig.show()\n"
   ]
  },
  {
   "cell_type": "code",
   "execution_count": 21,
   "id": "da021bc3",
   "metadata": {},
   "outputs": [],
   "source": [
    "def remove_last_character(value):\n",
    "    pattern = r'\\D$'  # Wzorzec do dopasowania ostatniego niecyfrowego znaku\n",
    "    return re.sub(pattern, '', value)\n",
    "\n",
    "# Funkcja do formatowania czasu\n",
    "def format_time(seconds):\n",
    "    minutes, seconds = divmod(seconds, 60)\n",
    "    hours, minutes = divmod(minutes, 60)\n",
    "    return f'{int(hours)}:{int(minutes):02d}:{int(seconds):02d}'\n",
    "\n",
    "# Wczytanie danych z pliku CSV\n",
    "data = pd.read_csv('women_marathon.csv')\n",
    "\n",
    "# Konwersja kolumny 'Event Date' na typ daty\n",
    "data['Event Date'] = pd.to_datetime(data['Event Date'], format='%d.%m.%Y')\n",
    "\n",
    "# Usunięcie litery na końcu wartości w kolumnie 'Time'\n",
    "data['Time'] = data['Time'].apply(remove_last_character)\n",
    "\n",
    "# Konwersja kolumny 'Time' na liczbę zmiennoprzecinkową\n",
    "data['Time'] = data['Time'].str.split(':').apply(lambda x: int(x[0]) * 3600 + int(x[1]) * 60 + int(x[2]))\n",
    "\n",
    "# Sortowanie wyników względem daty i czasu\n",
    "data = data.sort_values(by=['Event Date', 'Time'])\n",
    "\n",
    "# Inicjalizacja pustej listy do przechowywania najlepszych wyników\n",
    "best_results = []\n",
    "\n",
    "# Ustalenie daty początkowej\n",
    "start_date = pd.to_datetime('1968-10-14', format='%Y-%m-%d')\n",
    "\n",
    "# Przeszukiwanie posortowanych danych w celu znalezienia progresji rekordu świata\n",
    "current_best_time = float('inf')\n",
    "for _, row in data.iterrows():\n",
    "    if row['Event Date'] >= start_date:\n",
    "        if row['Time'] < current_best_time:\n",
    "            best_results.append(row)\n",
    "            current_best_time = row['Time']\n",
    "\n",
    "# Konwersja listy wyników do DataFrame\n",
    "best_results = pd.DataFrame(best_results)\n",
    "\n",
    "# Tworzenie wykresu linii\n",
    "fig = go.Figure()\n",
    "fig.add_trace(go.Scatter(\n",
    "    x=best_results['Event Date'],\n",
    "    y=best_results['Time'],\n",
    "    mode='lines',\n",
    "    name='Progresja rekordu świata - Maraton kobiet'\n",
    "))\n",
    "\n",
    "# Ustawienie opisów osi\n",
    "fig.update_layout(\n",
    "    xaxis=dict(title='Data wydarzenia'),\n",
    "    yaxis=dict(title='Czas (hh:mm:ss)')\n",
    ")\n",
    "\n",
    "# Ustawienie osi Y\n",
    "fig.update_yaxes(\n",
    "    tickvals=[7800, 7680, 7560, 7440, 7320],\n",
    "    ticktext=['2:10:00', '2:08:00', '2:06:00', '2:04:00', '2:02:00'],\n",
    "    tickformatstops=[\n",
    "        dict(dtickrange=[None, 1000], value=\"%H:%M:%S\"),  # Formatowanie na hh:mm:ss dla małych przedziałów\n",
    "        dict(dtickrange=[1000, None], value=\"%H:%M\")  # Formatowanie na hh:mm dla większych przedziałów\n",
    "    ]\n",
    ")\n",
    "\n",
    "# Dodanie tytułu wykresu\n",
    "fig.update_layout(\n",
    "    title=\"Progresja rekordu świata - Maraton kobiet\",\n",
    "    height= 600,\n",
    ")\n",
    "\n",
    "# Zapisywanie wykresu do pliku HTML\n",
    "fig.write_html(\"WR_progression.html\")"
   ]
  },
  {
   "cell_type": "code",
   "execution_count": 22,
   "id": "c2542283",
   "metadata": {},
   "outputs": [
    {
     "data": {
      "application/vnd.plotly.v1+json": {
       "config": {
        "plotlyServerURL": "https://plot.ly"
       },
       "data": [
        {
         "coloraxis": "coloraxis",
         "geo": "geo",
         "hovertemplate": "Country=%{location}<br>Unique Runner Count=%{z}<extra></extra>",
         "locationmode": "country names",
         "locations": [
          "Algeria",
          "Argentina",
          "Australia",
          "BLR",
          "Bahrain",
          "Belgium",
          "Brazil",
          "Burundi",
          "COL",
          "CRO",
          "CZE",
          "Canada",
          "China",
          "Denmark",
          "Diaz",
          "Ecuador",
          "Eritrea",
          "Estonia",
          "Ethiopia",
          "FIN",
          "France",
          "Germany",
          "HUN",
          "Hui",
          "Ireland",
          "Israel",
          "Italy",
          "Japan",
          "KAZ",
          "KGZ",
          "Kenya",
          "LAT",
          "LTU",
          "LUX",
          "MRI",
          "Mexico",
          "Moldova",
          "Mongolia",
          "Morocco",
          "Namibia",
          "Netherlands",
          "New Zealand",
          "Norway",
          "Ord",
          "PRK",
          "Peru",
          "Poland",
          "Portugal",
          "ROU",
          "Russia",
          "SLO",
          "SRB",
          "South Africa",
          "South Korea",
          "Spain",
          "Sun",
          "Sweden",
          "Switzerland",
          "Tanzania",
          "Turkey",
          "UAE",
          "Uganda",
          "Ukraine",
          "United Kingdom",
          "United States",
          "Zimbabwe",
          "Zyl",
          "der"
         ],
         "name": "",
         "type": "choropleth",
         "z": [
          2,
          2,
          14,
          13,
          14,
          6,
          3,
          1,
          3,
          4,
          5,
          11,
          61,
          1,
          1,
          5,
          4,
          1,
          286,
          5,
          9,
          26,
          6,
          1,
          6,
          2,
          26,
          187,
          2,
          2,
          206,
          1,
          4,
          1,
          1,
          11,
          1,
          1,
          8,
          2,
          10,
          7,
          4,
          1,
          17,
          4,
          17,
          16,
          12,
          56,
          1,
          1,
          5,
          9,
          14,
          1,
          4,
          4,
          3,
          4,
          1,
          5,
          17,
          32,
          58,
          1,
          1,
          2
         ]
        }
       ],
       "layout": {
        "coloraxis": {
         "colorbar": {
          "title": {
           "text": "Unique Runner Count"
          }
         },
         "colorscale": [
          [
           0,
           "rgb(255,255,204)"
          ],
          [
           0.125,
           "rgb(255,237,160)"
          ],
          [
           0.25,
           "rgb(254,217,118)"
          ],
          [
           0.375,
           "rgb(254,178,76)"
          ],
          [
           0.5,
           "rgb(253,141,60)"
          ],
          [
           0.625,
           "rgb(252,78,42)"
          ],
          [
           0.75,
           "rgb(227,26,28)"
          ],
          [
           0.875,
           "rgb(189,0,38)"
          ],
          [
           1,
           "rgb(128,0,38)"
          ]
         ]
        },
        "font": {
         "size": 12
        },
        "geo": {
         "center": {},
         "domain": {
          "x": [
           0,
           1
          ],
          "y": [
           0,
           1
          ]
         },
         "projection": {
          "type": "natural earth"
         },
         "showcoastlines": false,
         "showframe": false
        },
        "height": 600,
        "legend": {
         "tracegroupgap": 0
        },
        "template": {
         "data": {
          "bar": [
           {
            "error_x": {
             "color": "#2a3f5f"
            },
            "error_y": {
             "color": "#2a3f5f"
            },
            "marker": {
             "line": {
              "color": "#E5ECF6",
              "width": 0.5
             },
             "pattern": {
              "fillmode": "overlay",
              "size": 10,
              "solidity": 0.2
             }
            },
            "type": "bar"
           }
          ],
          "barpolar": [
           {
            "marker": {
             "line": {
              "color": "#E5ECF6",
              "width": 0.5
             },
             "pattern": {
              "fillmode": "overlay",
              "size": 10,
              "solidity": 0.2
             }
            },
            "type": "barpolar"
           }
          ],
          "carpet": [
           {
            "aaxis": {
             "endlinecolor": "#2a3f5f",
             "gridcolor": "white",
             "linecolor": "white",
             "minorgridcolor": "white",
             "startlinecolor": "#2a3f5f"
            },
            "baxis": {
             "endlinecolor": "#2a3f5f",
             "gridcolor": "white",
             "linecolor": "white",
             "minorgridcolor": "white",
             "startlinecolor": "#2a3f5f"
            },
            "type": "carpet"
           }
          ],
          "choropleth": [
           {
            "colorbar": {
             "outlinewidth": 0,
             "ticks": ""
            },
            "type": "choropleth"
           }
          ],
          "contour": [
           {
            "colorbar": {
             "outlinewidth": 0,
             "ticks": ""
            },
            "colorscale": [
             [
              0,
              "#0d0887"
             ],
             [
              0.1111111111111111,
              "#46039f"
             ],
             [
              0.2222222222222222,
              "#7201a8"
             ],
             [
              0.3333333333333333,
              "#9c179e"
             ],
             [
              0.4444444444444444,
              "#bd3786"
             ],
             [
              0.5555555555555556,
              "#d8576b"
             ],
             [
              0.6666666666666666,
              "#ed7953"
             ],
             [
              0.7777777777777778,
              "#fb9f3a"
             ],
             [
              0.8888888888888888,
              "#fdca26"
             ],
             [
              1,
              "#f0f921"
             ]
            ],
            "type": "contour"
           }
          ],
          "contourcarpet": [
           {
            "colorbar": {
             "outlinewidth": 0,
             "ticks": ""
            },
            "type": "contourcarpet"
           }
          ],
          "heatmap": [
           {
            "colorbar": {
             "outlinewidth": 0,
             "ticks": ""
            },
            "colorscale": [
             [
              0,
              "#0d0887"
             ],
             [
              0.1111111111111111,
              "#46039f"
             ],
             [
              0.2222222222222222,
              "#7201a8"
             ],
             [
              0.3333333333333333,
              "#9c179e"
             ],
             [
              0.4444444444444444,
              "#bd3786"
             ],
             [
              0.5555555555555556,
              "#d8576b"
             ],
             [
              0.6666666666666666,
              "#ed7953"
             ],
             [
              0.7777777777777778,
              "#fb9f3a"
             ],
             [
              0.8888888888888888,
              "#fdca26"
             ],
             [
              1,
              "#f0f921"
             ]
            ],
            "type": "heatmap"
           }
          ],
          "heatmapgl": [
           {
            "colorbar": {
             "outlinewidth": 0,
             "ticks": ""
            },
            "colorscale": [
             [
              0,
              "#0d0887"
             ],
             [
              0.1111111111111111,
              "#46039f"
             ],
             [
              0.2222222222222222,
              "#7201a8"
             ],
             [
              0.3333333333333333,
              "#9c179e"
             ],
             [
              0.4444444444444444,
              "#bd3786"
             ],
             [
              0.5555555555555556,
              "#d8576b"
             ],
             [
              0.6666666666666666,
              "#ed7953"
             ],
             [
              0.7777777777777778,
              "#fb9f3a"
             ],
             [
              0.8888888888888888,
              "#fdca26"
             ],
             [
              1,
              "#f0f921"
             ]
            ],
            "type": "heatmapgl"
           }
          ],
          "histogram": [
           {
            "marker": {
             "pattern": {
              "fillmode": "overlay",
              "size": 10,
              "solidity": 0.2
             }
            },
            "type": "histogram"
           }
          ],
          "histogram2d": [
           {
            "colorbar": {
             "outlinewidth": 0,
             "ticks": ""
            },
            "colorscale": [
             [
              0,
              "#0d0887"
             ],
             [
              0.1111111111111111,
              "#46039f"
             ],
             [
              0.2222222222222222,
              "#7201a8"
             ],
             [
              0.3333333333333333,
              "#9c179e"
             ],
             [
              0.4444444444444444,
              "#bd3786"
             ],
             [
              0.5555555555555556,
              "#d8576b"
             ],
             [
              0.6666666666666666,
              "#ed7953"
             ],
             [
              0.7777777777777778,
              "#fb9f3a"
             ],
             [
              0.8888888888888888,
              "#fdca26"
             ],
             [
              1,
              "#f0f921"
             ]
            ],
            "type": "histogram2d"
           }
          ],
          "histogram2dcontour": [
           {
            "colorbar": {
             "outlinewidth": 0,
             "ticks": ""
            },
            "colorscale": [
             [
              0,
              "#0d0887"
             ],
             [
              0.1111111111111111,
              "#46039f"
             ],
             [
              0.2222222222222222,
              "#7201a8"
             ],
             [
              0.3333333333333333,
              "#9c179e"
             ],
             [
              0.4444444444444444,
              "#bd3786"
             ],
             [
              0.5555555555555556,
              "#d8576b"
             ],
             [
              0.6666666666666666,
              "#ed7953"
             ],
             [
              0.7777777777777778,
              "#fb9f3a"
             ],
             [
              0.8888888888888888,
              "#fdca26"
             ],
             [
              1,
              "#f0f921"
             ]
            ],
            "type": "histogram2dcontour"
           }
          ],
          "mesh3d": [
           {
            "colorbar": {
             "outlinewidth": 0,
             "ticks": ""
            },
            "type": "mesh3d"
           }
          ],
          "parcoords": [
           {
            "line": {
             "colorbar": {
              "outlinewidth": 0,
              "ticks": ""
             }
            },
            "type": "parcoords"
           }
          ],
          "pie": [
           {
            "automargin": true,
            "type": "pie"
           }
          ],
          "scatter": [
           {
            "fillpattern": {
             "fillmode": "overlay",
             "size": 10,
             "solidity": 0.2
            },
            "type": "scatter"
           }
          ],
          "scatter3d": [
           {
            "line": {
             "colorbar": {
              "outlinewidth": 0,
              "ticks": ""
             }
            },
            "marker": {
             "colorbar": {
              "outlinewidth": 0,
              "ticks": ""
             }
            },
            "type": "scatter3d"
           }
          ],
          "scattercarpet": [
           {
            "marker": {
             "colorbar": {
              "outlinewidth": 0,
              "ticks": ""
             }
            },
            "type": "scattercarpet"
           }
          ],
          "scattergeo": [
           {
            "marker": {
             "colorbar": {
              "outlinewidth": 0,
              "ticks": ""
             }
            },
            "type": "scattergeo"
           }
          ],
          "scattergl": [
           {
            "marker": {
             "colorbar": {
              "outlinewidth": 0,
              "ticks": ""
             }
            },
            "type": "scattergl"
           }
          ],
          "scattermapbox": [
           {
            "marker": {
             "colorbar": {
              "outlinewidth": 0,
              "ticks": ""
             }
            },
            "type": "scattermapbox"
           }
          ],
          "scatterpolar": [
           {
            "marker": {
             "colorbar": {
              "outlinewidth": 0,
              "ticks": ""
             }
            },
            "type": "scatterpolar"
           }
          ],
          "scatterpolargl": [
           {
            "marker": {
             "colorbar": {
              "outlinewidth": 0,
              "ticks": ""
             }
            },
            "type": "scatterpolargl"
           }
          ],
          "scatterternary": [
           {
            "marker": {
             "colorbar": {
              "outlinewidth": 0,
              "ticks": ""
             }
            },
            "type": "scatterternary"
           }
          ],
          "surface": [
           {
            "colorbar": {
             "outlinewidth": 0,
             "ticks": ""
            },
            "colorscale": [
             [
              0,
              "#0d0887"
             ],
             [
              0.1111111111111111,
              "#46039f"
             ],
             [
              0.2222222222222222,
              "#7201a8"
             ],
             [
              0.3333333333333333,
              "#9c179e"
             ],
             [
              0.4444444444444444,
              "#bd3786"
             ],
             [
              0.5555555555555556,
              "#d8576b"
             ],
             [
              0.6666666666666666,
              "#ed7953"
             ],
             [
              0.7777777777777778,
              "#fb9f3a"
             ],
             [
              0.8888888888888888,
              "#fdca26"
             ],
             [
              1,
              "#f0f921"
             ]
            ],
            "type": "surface"
           }
          ],
          "table": [
           {
            "cells": {
             "fill": {
              "color": "#EBF0F8"
             },
             "line": {
              "color": "white"
             }
            },
            "header": {
             "fill": {
              "color": "#C8D4E3"
             },
             "line": {
              "color": "white"
             }
            },
            "type": "table"
           }
          ]
         },
         "layout": {
          "annotationdefaults": {
           "arrowcolor": "#2a3f5f",
           "arrowhead": 0,
           "arrowwidth": 1
          },
          "autotypenumbers": "strict",
          "coloraxis": {
           "colorbar": {
            "outlinewidth": 0,
            "ticks": ""
           }
          },
          "colorscale": {
           "diverging": [
            [
             0,
             "#8e0152"
            ],
            [
             0.1,
             "#c51b7d"
            ],
            [
             0.2,
             "#de77ae"
            ],
            [
             0.3,
             "#f1b6da"
            ],
            [
             0.4,
             "#fde0ef"
            ],
            [
             0.5,
             "#f7f7f7"
            ],
            [
             0.6,
             "#e6f5d0"
            ],
            [
             0.7,
             "#b8e186"
            ],
            [
             0.8,
             "#7fbc41"
            ],
            [
             0.9,
             "#4d9221"
            ],
            [
             1,
             "#276419"
            ]
           ],
           "sequential": [
            [
             0,
             "#0d0887"
            ],
            [
             0.1111111111111111,
             "#46039f"
            ],
            [
             0.2222222222222222,
             "#7201a8"
            ],
            [
             0.3333333333333333,
             "#9c179e"
            ],
            [
             0.4444444444444444,
             "#bd3786"
            ],
            [
             0.5555555555555556,
             "#d8576b"
            ],
            [
             0.6666666666666666,
             "#ed7953"
            ],
            [
             0.7777777777777778,
             "#fb9f3a"
            ],
            [
             0.8888888888888888,
             "#fdca26"
            ],
            [
             1,
             "#f0f921"
            ]
           ],
           "sequentialminus": [
            [
             0,
             "#0d0887"
            ],
            [
             0.1111111111111111,
             "#46039f"
            ],
            [
             0.2222222222222222,
             "#7201a8"
            ],
            [
             0.3333333333333333,
             "#9c179e"
            ],
            [
             0.4444444444444444,
             "#bd3786"
            ],
            [
             0.5555555555555556,
             "#d8576b"
            ],
            [
             0.6666666666666666,
             "#ed7953"
            ],
            [
             0.7777777777777778,
             "#fb9f3a"
            ],
            [
             0.8888888888888888,
             "#fdca26"
            ],
            [
             1,
             "#f0f921"
            ]
           ]
          },
          "colorway": [
           "#636efa",
           "#EF553B",
           "#00cc96",
           "#ab63fa",
           "#FFA15A",
           "#19d3f3",
           "#FF6692",
           "#B6E880",
           "#FF97FF",
           "#FECB52"
          ],
          "font": {
           "color": "#2a3f5f"
          },
          "geo": {
           "bgcolor": "white",
           "lakecolor": "white",
           "landcolor": "#E5ECF6",
           "showlakes": true,
           "showland": true,
           "subunitcolor": "white"
          },
          "hoverlabel": {
           "align": "left"
          },
          "hovermode": "closest",
          "mapbox": {
           "style": "light"
          },
          "paper_bgcolor": "white",
          "plot_bgcolor": "#E5ECF6",
          "polar": {
           "angularaxis": {
            "gridcolor": "white",
            "linecolor": "white",
            "ticks": ""
           },
           "bgcolor": "#E5ECF6",
           "radialaxis": {
            "gridcolor": "white",
            "linecolor": "white",
            "ticks": ""
           }
          },
          "scene": {
           "xaxis": {
            "backgroundcolor": "#E5ECF6",
            "gridcolor": "white",
            "gridwidth": 2,
            "linecolor": "white",
            "showbackground": true,
            "ticks": "",
            "zerolinecolor": "white"
           },
           "yaxis": {
            "backgroundcolor": "#E5ECF6",
            "gridcolor": "white",
            "gridwidth": 2,
            "linecolor": "white",
            "showbackground": true,
            "ticks": "",
            "zerolinecolor": "white"
           },
           "zaxis": {
            "backgroundcolor": "#E5ECF6",
            "gridcolor": "white",
            "gridwidth": 2,
            "linecolor": "white",
            "showbackground": true,
            "ticks": "",
            "zerolinecolor": "white"
           }
          },
          "shapedefaults": {
           "line": {
            "color": "#2a3f5f"
           }
          },
          "ternary": {
           "aaxis": {
            "gridcolor": "white",
            "linecolor": "white",
            "ticks": ""
           },
           "baxis": {
            "gridcolor": "white",
            "linecolor": "white",
            "ticks": ""
           },
           "bgcolor": "#E5ECF6",
           "caxis": {
            "gridcolor": "white",
            "linecolor": "white",
            "ticks": ""
           }
          },
          "title": {
           "x": 0.05
          },
          "xaxis": {
           "automargin": true,
           "gridcolor": "white",
           "linecolor": "white",
           "ticks": "",
           "title": {
            "standoff": 15
           },
           "zerolinecolor": "white",
           "zerolinewidth": 2
          },
          "yaxis": {
           "automargin": true,
           "gridcolor": "white",
           "linecolor": "white",
           "ticks": "",
           "title": {
            "standoff": 15
           },
           "zerolinecolor": "white",
           "zerolinewidth": 2
          }
         }
        },
        "title": {
         "text": "Liczba biegaczek z danego kraju"
        },
        "width": 1000
       }
      }
     },
     "metadata": {},
     "output_type": "display_data"
    }
   ],
   "source": [
    "# Read the CSV file\n",
    "df = pd.read_csv('women_marathon.csv')\n",
    "\n",
    "# Replace country codes with country names\n",
    "df['Country'] = df['Country'].replace({\n",
    "   'GDR': 'Germany',\n",
    "    'GER': 'Germany',\n",
    "    'RSA': 'South Africa',\n",
    "    'NGR': 'Nigeria',\n",
    "    'POR': 'Portugal',\n",
    "    'BAR': 'Barbados',\n",
    "    'ZIM': 'Zimbabwe',\n",
    "    'BAH': 'Bahamas',\n",
    "    'ANT': 'Antigua and Barbuda',\n",
    "    'NED': 'Netherlands',\n",
    "    'BOT': 'Botswana',\n",
    "    'CAY': 'Cayman Islands',\n",
    "    'SKN': 'Saint Kitts and Nevis',\n",
    "    'AHO': 'Netherlands',\n",
    "    'SRI': 'Sri Lanka',\n",
    "    'OMA': 'Oman',\n",
    "    'SUI': 'Switzerland',\n",
    "    'MAS': 'Malaysia',\n",
    "    'KSA': 'Saudi Arabia',\n",
    "    'IRI': 'Iran',\n",
    "    'ZAM': 'Zambia',\n",
    "    'ALG': 'Algeria',\n",
    "    'ARG': 'Argentina',\n",
    "    'AUS': 'Australia',\n",
    "    'AUT': 'Austria',\n",
    "    'BDI': 'Burundi',\n",
    "    'BEL': 'Belgium',\n",
    "    'BEl': 'Belgium',\n",
    "    'BOL': 'Bolivia',\n",
    "    'BRA': 'Brazil',\n",
    "    'BRN': 'Bahrain',\n",
    "    'CAN': 'Canada',\n",
    "    'CHI': 'Chile',\n",
    "    'CHN': 'China',\n",
    "    'COD': 'Congo',\n",
    "    'CYP': 'Cyprus',\n",
    "    'DEN': 'Denmark',\n",
    "    'DJI': 'Djibouti',\n",
    "    'ECU': 'Ecuador',\n",
    "    'ERI': 'Eritrea',\n",
    "    'ESP': 'Spain',\n",
    "    'EST': 'Estonia',\n",
    "    'ETH': 'Ethiopia',\n",
    "    'FRA': 'France',\n",
    "    'FRG': 'Germany',\n",
    "    'GBR': 'United Kingdom',\n",
    "    'IRL': 'Ireland',\n",
    "    'ISR': 'Israel',\n",
    "    'ITA': 'Italy',\n",
    "    'JPN': 'Japan',\n",
    "    'KEN': 'Kenya',\n",
    "    'KOR': 'South Korea',\n",
    "    'LES': 'Lesotho',\n",
    "    'MAR': 'Morocco',\n",
    "    'MDA': 'Moldova',\n",
    "    'MEX': 'Mexico',\n",
    "    'MGL': 'Mongolia',\n",
    "    'NAM': 'Namibia',\n",
    "    'NOR': 'Norway',\n",
    "    'NZL': 'New Zealand',\n",
    "    'PAN': 'Panama',\n",
    "    'PAR': 'Paraguay',\n",
    "    'PER': 'Peru',\n",
    "    'POL': 'Poland',\n",
    "    'QAT': 'Qatar',\n",
    "    'RUS': 'Russia',\n",
    "    'RWA': 'Rwanda',\n",
    "    'SVK': 'Slovakia',\n",
    "    'SWE': 'Sweden',\n",
    "    'TAN': 'Tanzania',\n",
    "    'TUR': 'Turkey',\n",
    "    'UGA': 'Uganda',\n",
    "    'UKR': 'Ukraine',\n",
    "    'USA': 'United States'\n",
    "})\n",
    "\n",
    "# Calculate the number of unique runners per country\n",
    "country_counts = df.groupby('Country')['Athlete'].nunique().reset_index(name='Unique Runner Count')\n",
    "\n",
    "\n",
    "# Create the heatmap on the world map\n",
    "fig = px.choropleth(country_counts, locations='Country', locationmode='country names',\n",
    "                    color='Unique Runner Count', title='Heatmap of Unique Runners per Country',\n",
    "                    color_continuous_scale='YlOrRd')\n",
    "\n",
    "fig.update_layout(\n",
    "    title_font_size=20,  # Increase the title font size\n",
    "    font_size=12,  # Set the overall font size\n",
    "    geo=dict(\n",
    "        showframe=False,  # Hide the map frame\n",
    "        showcoastlines=False,  # Hide the coastlines\n",
    "        projection_type='natural earth'  # Use the natural earth projection\n",
    "    ),\n",
    "    title= \"Liczba biegaczek z danego kraju\",\n",
    "    height=600,  # Set the height of the graph (in pixels)\n",
    "    width=1000  # Set the width of the graph (in pixels)\n",
    ")\n",
    "\n",
    "fig.write_html(\"Runners_per_country.html\")\n",
    "fig.show()"
   ]
  },
  {
   "cell_type": "code",
   "execution_count": null,
   "id": "5754250a",
   "metadata": {},
   "outputs": [],
   "source": []
  }
 ],
 "metadata": {
  "kernelspec": {
   "display_name": "Python 3.10.6 64-bit",
   "language": "python",
   "name": "python3"
  },
  "language_info": {
   "codemirror_mode": {
    "name": "ipython",
    "version": 3
   },
   "file_extension": ".py",
   "mimetype": "text/x-python",
   "name": "python",
   "nbconvert_exporter": "python",
   "pygments_lexer": "ipython3",
   "version": "3.10.9"
  },
  "vscode": {
   "interpreter": {
    "hash": "916dbcbb3f70747c44a77c7bcd40155683ae19c65e1c03b4aa3499c5328201f1"
   }
  }
 },
 "nbformat": 4,
 "nbformat_minor": 5
}
